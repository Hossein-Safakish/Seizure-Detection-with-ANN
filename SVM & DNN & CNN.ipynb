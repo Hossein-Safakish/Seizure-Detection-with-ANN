{
 "cells": [
  {
   "cell_type": "markdown",
   "id": "539870ec",
   "metadata": {},
   "source": [
    "# Intro Of This Notebook"
   ]
  },
  {
   "cell_type": "markdown",
   "id": "f02a1575",
   "metadata": {},
   "source": [
    "Epilepsy is a severe neurological disorder that manifests as a prevalent global health issue. It results from abnormal electrical discharges in the brain, leading to clinical symptoms. Epileptic seizures, representing the most common positive indicators of brain disturbance, categorize epilepsy as a primary brain disorder. The leading causes of epilepsy include vascular factors, traumatic incidents, infections, brain abscesses, tumors, nutritional deficiencies, pyridoxine deficiency, and calcium metabolism disorders. To enhance our understanding of the mechanisms causing epileptic disorders, ongoing research is essential. The diagnosis of epilepsy relies significantly on the electroencephalogram (EEG), a critical tool for accurately classifying different forms of epilepsy and facilitating the evaluation and treatment of neurophysiological disorders."
   ]
  },
  {
   "cell_type": "markdown",
   "id": "d6834ecf",
   "metadata": {},
   "source": [
    "## Method Selection"
   ]
  },
  {
   "cell_type": "markdown",
   "id": "9176b975",
   "metadata": {},
   "source": [
    "I implemented the dataset using Support Vector Machines (SVM), Deep Neural Networks (DNN), and Convolutional Neural Networks (CNN), and I obtained the results for each of them."
   ]
  },
  {
   "cell_type": "markdown",
   "id": "50abe76f",
   "metadata": {},
   "source": [
    "## About Dataset"
   ]
  },
  {
   "cell_type": "markdown",
   "id": "8d487823",
   "metadata": {},
   "source": [
    "This dataset is a pre-processed and re-structured/reshaped version of a very commonly used dataset featuring epileptic seizure detection."
   ]
  },
  {
   "cell_type": "markdown",
   "id": "0824224e",
   "metadata": {},
   "source": [
    "## Attribute Information"
   ]
  },
  {
   "cell_type": "markdown",
   "id": "7d6b6e98",
   "metadata": {},
   "source": [
    "The original dataset, as referenced, comprises 5 folders, each containing 100 files, with each file representing the brain activity recording of a single subject. These recordings span 23.6 seconds and are sampled into 4097 data points. Consequently, there are a total of 500 individuals, each contributing 4097 data points for a duration of 23.5 seconds.\n",
    "\n",
    "To enhance the dataset's organization, we partitioned and shuffled every 4097 data points into 23 chunks. Each chunk consists of 178 data points, representing a 1-second interval. Therefore, the dataset now comprises 11,500 entries (rows), each containing 178 data points for 1 second (columns). The final column denotes the label \"y\" with values {1, 2, 3, 4, 5}.\n",
    "\n",
    "In summary, the response variable \"y\" is found in column 179, while the explanatory variables X1, X2, …, X178 provide the EEG recording values at different time points."
   ]
  },
  {
   "cell_type": "markdown",
   "id": "5bd27710",
   "metadata": {},
   "source": [
    "## y Definition"
   ]
  },
  {
   "cell_type": "markdown",
   "id": "b6cb43ce",
   "metadata": {},
   "source": [
    "The variable \"y\" denotes the category of the 178-dimensional input vector and specifically takes values in {1, 2, 3, 4, 5}, each corresponding to different conditions:\n",
    "\n",
    "- 5: Eyes open, indicating the EEG signal recording when the patient had their eyes open.\n",
    "- 4: Eyes closed, representing the EEG signal recording when the patient had their eyes closed.\n",
    "- 3: Identification of the tumor region in the brain, recording EEG activity from the healthy brain area.\n",
    "- 2: EEG recorded from the area where the tumor was located.\n",
    "- 1: Recording of seizure activity.\n",
    "\n",
    "Subjects falling into classes 2, 3, 4, and 5 are those without epileptic seizures, while subjects in class 1 experience epileptic seizures. Despite the existence of five classes, many authors have simplified the classification task to binary, focusing on class 1 (Epileptic seizure) versus the rest. The motivation behind creating this dataset version in a .csv format is to streamline data access."
   ]
  },
  {
   "cell_type": "markdown",
   "id": "33fdc5e7",
   "metadata": {},
   "source": [
    "## Reference of datastet"
   ]
  },
  {
   "cell_type": "markdown",
   "id": "9fed9596",
   "metadata": {},
   "source": [
    "This Dataset collect from UCI Machine Learning Repository (from the University of Bonn)."
   ]
  },
  {
   "cell_type": "markdown",
   "id": "1314a09e",
   "metadata": {},
   "source": [
    "## Import Libraries"
   ]
  },
  {
   "cell_type": "code",
   "execution_count": 1,
   "id": "baef90d9",
   "metadata": {},
   "outputs": [
    {
     "name": "stdout",
     "output_type": "stream",
     "text": [
      "WARNING:tensorflow:From C:\\Users\\hosei\\anaconda3\\envs\\tensorjoon\\lib\\site-packages\\keras\\src\\losses.py:2976: The name tf.losses.sparse_softmax_cross_entropy is deprecated. Please use tf.compat.v1.losses.sparse_softmax_cross_entropy instead.\n",
      "\n"
     ]
    }
   ],
   "source": [
    "import numpy as np\n",
    "import tensorflow as tf\n",
    "import pandas as pd\n",
    "import time\n",
    "from sklearn.model_selection import train_test_split\n",
    "from sklearn.metrics import confusion_matrix, classification_report, accuracy_score\n",
    "from sklearn.preprocessing import StandardScaler\n",
    "from keras.models import Sequential\n",
    "from keras.layers import Conv1D, MaxPooling1D, Flatten, Dense, Dropout\n",
    "import matplotlib.pyplot as plt\n",
    "from sklearn.svm import SVC"
   ]
  },
  {
   "cell_type": "markdown",
   "id": "4e11344d",
   "metadata": {},
   "source": [
    "## Load the data"
   ]
  },
  {
   "cell_type": "code",
   "execution_count": 2,
   "id": "56490565",
   "metadata": {},
   "outputs": [],
   "source": [
    "data = pd.read_csv('Epileptic Seizure Recognition.csv')"
   ]
  },
  {
   "cell_type": "markdown",
   "id": "17fed2fd",
   "metadata": {},
   "source": [
    "## Show the dataset"
   ]
  },
  {
   "cell_type": "code",
   "execution_count": 3,
   "id": "52b0d389",
   "metadata": {},
   "outputs": [
    {
     "data": {
      "text/html": [
       "<div>\n",
       "<style scoped>\n",
       "    .dataframe tbody tr th:only-of-type {\n",
       "        vertical-align: middle;\n",
       "    }\n",
       "\n",
       "    .dataframe tbody tr th {\n",
       "        vertical-align: top;\n",
       "    }\n",
       "\n",
       "    .dataframe thead th {\n",
       "        text-align: right;\n",
       "    }\n",
       "</style>\n",
       "<table border=\"1\" class=\"dataframe\">\n",
       "  <thead>\n",
       "    <tr style=\"text-align: right;\">\n",
       "      <th></th>\n",
       "      <th>Unnamed</th>\n",
       "      <th>X1</th>\n",
       "      <th>X2</th>\n",
       "      <th>X3</th>\n",
       "      <th>X4</th>\n",
       "      <th>X5</th>\n",
       "      <th>X6</th>\n",
       "      <th>X7</th>\n",
       "      <th>X8</th>\n",
       "      <th>X9</th>\n",
       "      <th>...</th>\n",
       "      <th>X170</th>\n",
       "      <th>X171</th>\n",
       "      <th>X172</th>\n",
       "      <th>X173</th>\n",
       "      <th>X174</th>\n",
       "      <th>X175</th>\n",
       "      <th>X176</th>\n",
       "      <th>X177</th>\n",
       "      <th>X178</th>\n",
       "      <th>y</th>\n",
       "    </tr>\n",
       "  </thead>\n",
       "  <tbody>\n",
       "    <tr>\n",
       "      <th>0</th>\n",
       "      <td>X21.V1.791</td>\n",
       "      <td>135</td>\n",
       "      <td>190</td>\n",
       "      <td>229</td>\n",
       "      <td>223</td>\n",
       "      <td>192</td>\n",
       "      <td>125</td>\n",
       "      <td>55</td>\n",
       "      <td>-9</td>\n",
       "      <td>-33</td>\n",
       "      <td>...</td>\n",
       "      <td>-17</td>\n",
       "      <td>-15</td>\n",
       "      <td>-31</td>\n",
       "      <td>-77</td>\n",
       "      <td>-103</td>\n",
       "      <td>-127</td>\n",
       "      <td>-116</td>\n",
       "      <td>-83</td>\n",
       "      <td>-51</td>\n",
       "      <td>4</td>\n",
       "    </tr>\n",
       "    <tr>\n",
       "      <th>1</th>\n",
       "      <td>X15.V1.924</td>\n",
       "      <td>386</td>\n",
       "      <td>382</td>\n",
       "      <td>356</td>\n",
       "      <td>331</td>\n",
       "      <td>320</td>\n",
       "      <td>315</td>\n",
       "      <td>307</td>\n",
       "      <td>272</td>\n",
       "      <td>244</td>\n",
       "      <td>...</td>\n",
       "      <td>164</td>\n",
       "      <td>150</td>\n",
       "      <td>146</td>\n",
       "      <td>152</td>\n",
       "      <td>157</td>\n",
       "      <td>156</td>\n",
       "      <td>154</td>\n",
       "      <td>143</td>\n",
       "      <td>129</td>\n",
       "      <td>1</td>\n",
       "    </tr>\n",
       "    <tr>\n",
       "      <th>2</th>\n",
       "      <td>X8.V1.1</td>\n",
       "      <td>-32</td>\n",
       "      <td>-39</td>\n",
       "      <td>-47</td>\n",
       "      <td>-37</td>\n",
       "      <td>-32</td>\n",
       "      <td>-36</td>\n",
       "      <td>-57</td>\n",
       "      <td>-73</td>\n",
       "      <td>-85</td>\n",
       "      <td>...</td>\n",
       "      <td>57</td>\n",
       "      <td>64</td>\n",
       "      <td>48</td>\n",
       "      <td>19</td>\n",
       "      <td>-12</td>\n",
       "      <td>-30</td>\n",
       "      <td>-35</td>\n",
       "      <td>-35</td>\n",
       "      <td>-36</td>\n",
       "      <td>5</td>\n",
       "    </tr>\n",
       "    <tr>\n",
       "      <th>3</th>\n",
       "      <td>X16.V1.60</td>\n",
       "      <td>-105</td>\n",
       "      <td>-101</td>\n",
       "      <td>-96</td>\n",
       "      <td>-92</td>\n",
       "      <td>-89</td>\n",
       "      <td>-95</td>\n",
       "      <td>-102</td>\n",
       "      <td>-100</td>\n",
       "      <td>-87</td>\n",
       "      <td>...</td>\n",
       "      <td>-82</td>\n",
       "      <td>-81</td>\n",
       "      <td>-80</td>\n",
       "      <td>-77</td>\n",
       "      <td>-85</td>\n",
       "      <td>-77</td>\n",
       "      <td>-72</td>\n",
       "      <td>-69</td>\n",
       "      <td>-65</td>\n",
       "      <td>5</td>\n",
       "    </tr>\n",
       "    <tr>\n",
       "      <th>4</th>\n",
       "      <td>X20.V1.54</td>\n",
       "      <td>-9</td>\n",
       "      <td>-65</td>\n",
       "      <td>-98</td>\n",
       "      <td>-102</td>\n",
       "      <td>-78</td>\n",
       "      <td>-48</td>\n",
       "      <td>-16</td>\n",
       "      <td>0</td>\n",
       "      <td>-21</td>\n",
       "      <td>...</td>\n",
       "      <td>4</td>\n",
       "      <td>2</td>\n",
       "      <td>-12</td>\n",
       "      <td>-32</td>\n",
       "      <td>-41</td>\n",
       "      <td>-65</td>\n",
       "      <td>-83</td>\n",
       "      <td>-89</td>\n",
       "      <td>-73</td>\n",
       "      <td>5</td>\n",
       "    </tr>\n",
       "  </tbody>\n",
       "</table>\n",
       "<p>5 rows × 180 columns</p>\n",
       "</div>"
      ],
      "text/plain": [
       "      Unnamed   X1   X2   X3   X4   X5   X6   X7   X8   X9  ...  X170  X171  \\\n",
       "0  X21.V1.791  135  190  229  223  192  125   55   -9  -33  ...   -17   -15   \n",
       "1  X15.V1.924  386  382  356  331  320  315  307  272  244  ...   164   150   \n",
       "2     X8.V1.1  -32  -39  -47  -37  -32  -36  -57  -73  -85  ...    57    64   \n",
       "3   X16.V1.60 -105 -101  -96  -92  -89  -95 -102 -100  -87  ...   -82   -81   \n",
       "4   X20.V1.54   -9  -65  -98 -102  -78  -48  -16    0  -21  ...     4     2   \n",
       "\n",
       "   X172  X173  X174  X175  X176  X177  X178  y  \n",
       "0   -31   -77  -103  -127  -116   -83   -51  4  \n",
       "1   146   152   157   156   154   143   129  1  \n",
       "2    48    19   -12   -30   -35   -35   -36  5  \n",
       "3   -80   -77   -85   -77   -72   -69   -65  5  \n",
       "4   -12   -32   -41   -65   -83   -89   -73  5  \n",
       "\n",
       "[5 rows x 180 columns]"
      ]
     },
     "execution_count": 3,
     "metadata": {},
     "output_type": "execute_result"
    }
   ],
   "source": [
    "data.head()"
   ]
  },
  {
   "cell_type": "markdown",
   "id": "6d7f3f6f",
   "metadata": {},
   "source": [
    "# SVM Model"
   ]
  },
  {
   "cell_type": "code",
   "execution_count": 4,
   "id": "d11a3b92",
   "metadata": {},
   "outputs": [
    {
     "name": "stderr",
     "output_type": "stream",
     "text": [
      "C:\\Users\\hosei\\anaconda3\\envs\\tensorjoon\\lib\\site-packages\\sklearn\\utils\\validation.py:1183: DataConversionWarning: A column-vector y was passed when a 1d array was expected. Please change the shape of y to (n_samples, ), for example using ravel().\n",
      "  y = column_or_1d(y, warn=True)\n"
     ]
    },
    {
     "name": "stdout",
     "output_type": "stream",
     "text": [
      "Confusion Matrix:\n",
      "[[2284    1]\n",
      " [ 518   72]]\n",
      "Classification Report:\n",
      "              precision    recall  f1-score   support\n",
      "\n",
      "           0       0.82      1.00      0.90      2285\n",
      "           1       0.99      0.12      0.22       590\n",
      "\n",
      "    accuracy                           0.82      2875\n",
      "   macro avg       0.90      0.56      0.56      2875\n",
      "weighted avg       0.85      0.82      0.76      2875\n",
      "\n",
      "Accuracy: 0.8194782608695652\n",
      "Running Time: 62.17337918281555 seconds\n"
     ]
    }
   ],
   "source": [
    "X = data.iloc[:, 1:-1].values\n",
    "y = data.iloc[:, -1:].values\n",
    "y[y > 1] = 0  # Convert multi-class to binary\n",
    "\n",
    "# Split the data into training and testing sets\n",
    "X_train, X_test, y_train, y_test = train_test_split(X, y, test_size=0.25,\n",
    "                                            shuffle=True, random_state=42)\n",
    "\n",
    "# Standardize the data\n",
    "scaler = StandardScaler()\n",
    "X_train_scaled = scaler.fit_transform(X_train)\n",
    "X_test_scaled = scaler.transform(X_test)\n",
    "\n",
    "start_time = time.time()\n",
    "# Build and train the SVM model\n",
    "svm_model = SVC(kernel='linear', C=1.0, random_state=42)\n",
    "svm_model.fit(X_train_scaled, y_train)\n",
    "\n",
    "# Make predictions on the test set\n",
    "y_pred = svm_model.predict(X_test_scaled)\n",
    "\n",
    "end_time = time.time()\n",
    "# Calculate and print the confusion matrix\n",
    "conf_matrix = confusion_matrix(y_test, y_pred)\n",
    "print(\"Confusion Matrix:\")\n",
    "print(conf_matrix)\n",
    "\n",
    "# Calculate and print classification report\n",
    "class_report = classification_report(y_test, y_pred)\n",
    "print(\"Classification Report:\")\n",
    "print(class_report)\n",
    "\n",
    "# Calculate and print accuracy\n",
    "accuracy = accuracy_score(y_test, y_pred)\n",
    "print(\"Accuracy:\", accuracy)\n",
    "\n",
    "elapsed_time = end_time - start_time\n",
    "print(\"Running Time:\", elapsed_time, \"seconds\")"
   ]
  },
  {
   "cell_type": "markdown",
   "id": "39a62f21",
   "metadata": {},
   "source": [
    "# DNN Model"
   ]
  },
  {
   "cell_type": "code",
   "execution_count": 5,
   "id": "2915889f",
   "metadata": {
    "scrolled": true
   },
   "outputs": [
    {
     "name": "stdout",
     "output_type": "stream",
     "text": [
      "WARNING:tensorflow:From C:\\Users\\hosei\\anaconda3\\envs\\tensorjoon\\lib\\site-packages\\keras\\src\\backend.py:1398: The name tf.executing_eagerly_outside_functions is deprecated. Please use tf.compat.v1.executing_eagerly_outside_functions instead.\n",
      "\n",
      "Epoch 1/150\n",
      "WARNING:tensorflow:From C:\\Users\\hosei\\anaconda3\\envs\\tensorjoon\\lib\\site-packages\\keras\\src\\utils\\tf_utils.py:492: The name tf.ragged.RaggedTensorValue is deprecated. Please use tf.compat.v1.ragged.RaggedTensorValue instead.\n",
      "\n",
      "WARNING:tensorflow:From C:\\Users\\hosei\\anaconda3\\envs\\tensorjoon\\lib\\site-packages\\keras\\src\\engine\\base_layer_utils.py:384: The name tf.executing_eagerly_outside_functions is deprecated. Please use tf.compat.v1.executing_eagerly_outside_functions instead.\n",
      "\n",
      "54/54 [==============================] - 6s 36ms/step - loss: 0.6351 - accuracy: 0.6965 - val_loss: 0.4322 - val_accuracy: 0.9154\n",
      "Epoch 2/150\n",
      "54/54 [==============================] - 2s 31ms/step - loss: 0.4121 - accuracy: 0.8972 - val_loss: 0.2359 - val_accuracy: 0.9565\n",
      "Epoch 3/150\n",
      "54/54 [==============================] - 2s 32ms/step - loss: 0.2624 - accuracy: 0.9372 - val_loss: 0.1539 - val_accuracy: 0.9623\n",
      "Epoch 4/150\n",
      "54/54 [==============================] - 2s 30ms/step - loss: 0.1831 - accuracy: 0.9525 - val_loss: 0.1314 - val_accuracy: 0.9670\n",
      "Epoch 5/150\n",
      "54/54 [==============================] - 2s 31ms/step - loss: 0.1577 - accuracy: 0.9561 - val_loss: 0.1222 - val_accuracy: 0.9606\n",
      "Epoch 6/150\n",
      "54/54 [==============================] - 2s 30ms/step - loss: 0.1301 - accuracy: 0.9620 - val_loss: 0.1283 - val_accuracy: 0.9600\n",
      "Epoch 7/150\n",
      "54/54 [==============================] - 2s 30ms/step - loss: 0.1207 - accuracy: 0.9646 - val_loss: 0.1145 - val_accuracy: 0.9629\n",
      "Epoch 8/150\n",
      "54/54 [==============================] - 2s 31ms/step - loss: 0.1081 - accuracy: 0.9687 - val_loss: 0.1184 - val_accuracy: 0.9635\n",
      "Epoch 9/150\n",
      "54/54 [==============================] - 2s 30ms/step - loss: 0.1110 - accuracy: 0.9684 - val_loss: 0.1196 - val_accuracy: 0.9629\n",
      "Epoch 10/150\n",
      "54/54 [==============================] - 2s 30ms/step - loss: 0.0997 - accuracy: 0.9672 - val_loss: 0.1323 - val_accuracy: 0.9612\n",
      "Epoch 11/150\n",
      "54/54 [==============================] - 2s 30ms/step - loss: 0.0991 - accuracy: 0.9686 - val_loss: 0.1023 - val_accuracy: 0.9710\n",
      "Epoch 12/150\n",
      "54/54 [==============================] - 2s 31ms/step - loss: 0.0982 - accuracy: 0.9670 - val_loss: 0.1178 - val_accuracy: 0.9612\n",
      "Epoch 13/150\n",
      "54/54 [==============================] - 2s 30ms/step - loss: 0.0840 - accuracy: 0.9732 - val_loss: 0.1077 - val_accuracy: 0.9687\n",
      "Epoch 14/150\n",
      "54/54 [==============================] - 2s 30ms/step - loss: 0.0818 - accuracy: 0.9730 - val_loss: 0.0968 - val_accuracy: 0.9722\n",
      "Epoch 15/150\n",
      "54/54 [==============================] - 2s 31ms/step - loss: 0.0810 - accuracy: 0.9755 - val_loss: 0.1241 - val_accuracy: 0.9623\n",
      "Epoch 16/150\n",
      "54/54 [==============================] - 2s 31ms/step - loss: 0.0774 - accuracy: 0.9722 - val_loss: 0.1098 - val_accuracy: 0.9681\n",
      "Epoch 17/150\n",
      "54/54 [==============================] - 2s 30ms/step - loss: 0.0714 - accuracy: 0.9775 - val_loss: 0.1205 - val_accuracy: 0.9658\n",
      "Epoch 18/150\n",
      "54/54 [==============================] - 2s 31ms/step - loss: 0.0675 - accuracy: 0.9786 - val_loss: 0.1105 - val_accuracy: 0.9681\n",
      "Epoch 19/150\n",
      "54/54 [==============================] - 2s 30ms/step - loss: 0.0741 - accuracy: 0.9749 - val_loss: 0.1054 - val_accuracy: 0.9704\n",
      "Epoch 20/150\n",
      "54/54 [==============================] - 2s 30ms/step - loss: 0.0647 - accuracy: 0.9787 - val_loss: 0.1172 - val_accuracy: 0.9641\n",
      "Epoch 21/150\n",
      "54/54 [==============================] - 2s 31ms/step - loss: 0.0595 - accuracy: 0.9791 - val_loss: 0.1143 - val_accuracy: 0.9681\n",
      "Epoch 22/150\n",
      "54/54 [==============================] - 2s 31ms/step - loss: 0.0605 - accuracy: 0.9813 - val_loss: 0.0982 - val_accuracy: 0.9710\n",
      "Epoch 23/150\n",
      "54/54 [==============================] - 2s 31ms/step - loss: 0.0671 - accuracy: 0.9774 - val_loss: 0.1137 - val_accuracy: 0.9658\n",
      "Epoch 24/150\n",
      "54/54 [==============================] - 2s 31ms/step - loss: 0.0632 - accuracy: 0.9796 - val_loss: 0.1337 - val_accuracy: 0.9641\n",
      "Epoch 25/150\n",
      "54/54 [==============================] - 2s 31ms/step - loss: 0.0607 - accuracy: 0.9781 - val_loss: 0.1159 - val_accuracy: 0.9693\n",
      "Epoch 26/150\n",
      "54/54 [==============================] - 2s 31ms/step - loss: 0.0608 - accuracy: 0.9800 - val_loss: 0.1071 - val_accuracy: 0.9699\n",
      "Epoch 27/150\n",
      "54/54 [==============================] - 2s 32ms/step - loss: 0.0590 - accuracy: 0.9809 - val_loss: 0.0996 - val_accuracy: 0.9699\n",
      "Epoch 28/150\n",
      "54/54 [==============================] - 2s 30ms/step - loss: 0.0639 - accuracy: 0.9780 - val_loss: 0.0996 - val_accuracy: 0.9687\n",
      "Epoch 29/150\n",
      "54/54 [==============================] - 2s 30ms/step - loss: 0.0536 - accuracy: 0.9823 - val_loss: 0.1074 - val_accuracy: 0.9670\n",
      "Epoch 30/150\n",
      "54/54 [==============================] - 2s 31ms/step - loss: 0.0579 - accuracy: 0.9800 - val_loss: 0.1129 - val_accuracy: 0.9687\n",
      "Epoch 31/150\n",
      "54/54 [==============================] - 2s 31ms/step - loss: 0.0524 - accuracy: 0.9842 - val_loss: 0.1043 - val_accuracy: 0.9699\n",
      "Epoch 32/150\n",
      "54/54 [==============================] - 2s 30ms/step - loss: 0.0499 - accuracy: 0.9823 - val_loss: 0.1122 - val_accuracy: 0.9664\n",
      "Epoch 33/150\n",
      "54/54 [==============================] - 2s 31ms/step - loss: 0.0514 - accuracy: 0.9825 - val_loss: 0.1047 - val_accuracy: 0.9693\n",
      "Epoch 34/150\n",
      "54/54 [==============================] - 2s 31ms/step - loss: 0.0517 - accuracy: 0.9819 - val_loss: 0.1062 - val_accuracy: 0.9681\n",
      "Epoch 35/150\n",
      "54/54 [==============================] - 2s 31ms/step - loss: 0.0523 - accuracy: 0.9810 - val_loss: 0.0926 - val_accuracy: 0.9745\n",
      "Epoch 36/150\n",
      "54/54 [==============================] - 2s 31ms/step - loss: 0.0496 - accuracy: 0.9826 - val_loss: 0.0946 - val_accuracy: 0.9728\n",
      "Epoch 37/150\n",
      "54/54 [==============================] - 2s 31ms/step - loss: 0.0441 - accuracy: 0.9859 - val_loss: 0.1160 - val_accuracy: 0.9728\n",
      "Epoch 38/150\n",
      "54/54 [==============================] - 2s 31ms/step - loss: 0.0451 - accuracy: 0.9836 - val_loss: 0.1158 - val_accuracy: 0.9681\n",
      "Epoch 39/150\n",
      "54/54 [==============================] - 2s 31ms/step - loss: 0.0395 - accuracy: 0.9875 - val_loss: 0.1164 - val_accuracy: 0.9693\n",
      "Epoch 40/150\n",
      "54/54 [==============================] - 2s 30ms/step - loss: 0.0422 - accuracy: 0.9845 - val_loss: 0.1161 - val_accuracy: 0.9693\n",
      "Epoch 41/150\n",
      "54/54 [==============================] - 2s 30ms/step - loss: 0.0413 - accuracy: 0.9851 - val_loss: 0.1141 - val_accuracy: 0.9716\n",
      "Epoch 42/150\n",
      "54/54 [==============================] - 2s 31ms/step - loss: 0.0403 - accuracy: 0.9870 - val_loss: 0.1220 - val_accuracy: 0.9687\n",
      "Epoch 43/150\n",
      "54/54 [==============================] - 2s 32ms/step - loss: 0.0451 - accuracy: 0.9849 - val_loss: 0.1163 - val_accuracy: 0.9658\n",
      "Epoch 44/150\n",
      "54/54 [==============================] - 2s 32ms/step - loss: 0.0379 - accuracy: 0.9865 - val_loss: 0.1118 - val_accuracy: 0.9704\n",
      "Epoch 45/150\n",
      "54/54 [==============================] - 2s 32ms/step - loss: 0.0422 - accuracy: 0.9874 - val_loss: 0.1061 - val_accuracy: 0.9716\n",
      "Epoch 46/150\n",
      "54/54 [==============================] - 2s 32ms/step - loss: 0.0410 - accuracy: 0.9864 - val_loss: 0.1089 - val_accuracy: 0.9699\n",
      "Epoch 47/150\n",
      "54/54 [==============================] - 2s 33ms/step - loss: 0.0435 - accuracy: 0.9855 - val_loss: 0.1044 - val_accuracy: 0.9693\n",
      "Epoch 48/150\n",
      "54/54 [==============================] - 2s 32ms/step - loss: 0.0411 - accuracy: 0.9857 - val_loss: 0.1214 - val_accuracy: 0.9641\n",
      "Epoch 49/150\n",
      "54/54 [==============================] - 2s 31ms/step - loss: 0.0439 - accuracy: 0.9841 - val_loss: 0.0881 - val_accuracy: 0.9733\n",
      "Epoch 50/150\n",
      "54/54 [==============================] - 2s 34ms/step - loss: 0.0413 - accuracy: 0.9865 - val_loss: 0.0927 - val_accuracy: 0.9728\n",
      "Epoch 51/150\n",
      "54/54 [==============================] - 2s 32ms/step - loss: 0.0372 - accuracy: 0.9875 - val_loss: 0.1080 - val_accuracy: 0.9699\n",
      "Epoch 52/150\n",
      "54/54 [==============================] - 2s 32ms/step - loss: 0.0368 - accuracy: 0.9874 - val_loss: 0.1161 - val_accuracy: 0.9681\n",
      "Epoch 53/150\n",
      "54/54 [==============================] - 2s 32ms/step - loss: 0.0399 - accuracy: 0.9862 - val_loss: 0.0997 - val_accuracy: 0.9733\n",
      "Epoch 54/150\n",
      "54/54 [==============================] - 2s 32ms/step - loss: 0.0335 - accuracy: 0.9880 - val_loss: 0.1023 - val_accuracy: 0.9739\n",
      "Epoch 55/150\n",
      "54/54 [==============================] - 2s 32ms/step - loss: 0.0345 - accuracy: 0.9887 - val_loss: 0.0954 - val_accuracy: 0.9751\n",
      "Epoch 56/150\n",
      "54/54 [==============================] - 2s 32ms/step - loss: 0.0366 - accuracy: 0.9875 - val_loss: 0.1106 - val_accuracy: 0.9693\n",
      "Epoch 57/150\n",
      "54/54 [==============================] - 2s 32ms/step - loss: 0.0355 - accuracy: 0.9872 - val_loss: 0.1049 - val_accuracy: 0.9710\n",
      "Epoch 58/150\n",
      "54/54 [==============================] - 2s 32ms/step - loss: 0.0344 - accuracy: 0.9888 - val_loss: 0.1134 - val_accuracy: 0.9687\n",
      "Epoch 59/150\n",
      "54/54 [==============================] - 2s 32ms/step - loss: 0.0367 - accuracy: 0.9874 - val_loss: 0.0937 - val_accuracy: 0.9728\n",
      "Epoch 60/150\n",
      "54/54 [==============================] - 2s 33ms/step - loss: 0.0350 - accuracy: 0.9859 - val_loss: 0.1069 - val_accuracy: 0.9699\n",
      "Epoch 61/150\n",
      "54/54 [==============================] - 2s 32ms/step - loss: 0.0313 - accuracy: 0.9886 - val_loss: 0.1155 - val_accuracy: 0.9704\n",
      "Epoch 62/150\n",
      "54/54 [==============================] - 2s 32ms/step - loss: 0.0341 - accuracy: 0.9896 - val_loss: 0.1077 - val_accuracy: 0.9716\n",
      "Epoch 63/150\n",
      "54/54 [==============================] - 2s 34ms/step - loss: 0.0323 - accuracy: 0.9891 - val_loss: 0.1037 - val_accuracy: 0.9722\n",
      "Epoch 64/150\n",
      "54/54 [==============================] - 2s 33ms/step - loss: 0.0318 - accuracy: 0.9897 - val_loss: 0.1115 - val_accuracy: 0.9687\n",
      "Epoch 65/150\n",
      "54/54 [==============================] - 2s 33ms/step - loss: 0.0321 - accuracy: 0.9890 - val_loss: 0.1332 - val_accuracy: 0.9664\n",
      "Epoch 66/150\n",
      "54/54 [==============================] - 2s 33ms/step - loss: 0.0292 - accuracy: 0.9897 - val_loss: 0.1014 - val_accuracy: 0.9739\n",
      "Epoch 67/150\n",
      "54/54 [==============================] - 2s 33ms/step - loss: 0.0315 - accuracy: 0.9896 - val_loss: 0.1044 - val_accuracy: 0.9745\n",
      "Epoch 68/150\n",
      "54/54 [==============================] - 2s 33ms/step - loss: 0.0239 - accuracy: 0.9914 - val_loss: 0.1327 - val_accuracy: 0.9641\n",
      "Epoch 69/150\n",
      "54/54 [==============================] - 2s 33ms/step - loss: 0.0286 - accuracy: 0.9894 - val_loss: 0.1301 - val_accuracy: 0.9646\n",
      "Epoch 70/150\n",
      "54/54 [==============================] - 2s 33ms/step - loss: 0.0272 - accuracy: 0.9896 - val_loss: 0.1084 - val_accuracy: 0.9716\n",
      "Epoch 71/150\n",
      "54/54 [==============================] - 2s 33ms/step - loss: 0.0328 - accuracy: 0.9893 - val_loss: 0.1165 - val_accuracy: 0.9699\n",
      "Epoch 72/150\n",
      "54/54 [==============================] - 2s 33ms/step - loss: 0.0307 - accuracy: 0.9891 - val_loss: 0.1040 - val_accuracy: 0.9716\n",
      "Epoch 73/150\n",
      "54/54 [==============================] - 2s 33ms/step - loss: 0.0232 - accuracy: 0.9916 - val_loss: 0.1021 - val_accuracy: 0.9716\n",
      "Epoch 74/150\n",
      "54/54 [==============================] - 2s 33ms/step - loss: 0.0335 - accuracy: 0.9864 - val_loss: 0.1063 - val_accuracy: 0.9693\n",
      "Epoch 75/150\n",
      "54/54 [==============================] - 2s 33ms/step - loss: 0.0237 - accuracy: 0.9913 - val_loss: 0.1169 - val_accuracy: 0.9693\n",
      "Epoch 76/150\n",
      "54/54 [==============================] - 2s 33ms/step - loss: 0.0271 - accuracy: 0.9897 - val_loss: 0.0979 - val_accuracy: 0.9722\n",
      "Epoch 77/150\n",
      "54/54 [==============================] - 2s 35ms/step - loss: 0.0258 - accuracy: 0.9907 - val_loss: 0.1215 - val_accuracy: 0.9693\n",
      "Epoch 78/150\n",
      "54/54 [==============================] - 2s 33ms/step - loss: 0.0209 - accuracy: 0.9935 - val_loss: 0.1115 - val_accuracy: 0.9722\n",
      "Epoch 79/150\n",
      "54/54 [==============================] - 2s 33ms/step - loss: 0.0283 - accuracy: 0.9906 - val_loss: 0.1116 - val_accuracy: 0.9693\n",
      "Epoch 80/150\n",
      "54/54 [==============================] - 2s 34ms/step - loss: 0.0227 - accuracy: 0.9926 - val_loss: 0.1158 - val_accuracy: 0.9699\n",
      "Epoch 81/150\n",
      "54/54 [==============================] - 2s 34ms/step - loss: 0.0289 - accuracy: 0.9904 - val_loss: 0.0954 - val_accuracy: 0.9710\n",
      "Epoch 82/150\n",
      "54/54 [==============================] - 2s 34ms/step - loss: 0.0218 - accuracy: 0.9930 - val_loss: 0.1116 - val_accuracy: 0.9704\n",
      "Epoch 83/150\n",
      "54/54 [==============================] - 2s 34ms/step - loss: 0.0239 - accuracy: 0.9904 - val_loss: 0.1128 - val_accuracy: 0.9733\n",
      "Epoch 84/150\n",
      "54/54 [==============================] - 2s 34ms/step - loss: 0.0262 - accuracy: 0.9909 - val_loss: 0.0982 - val_accuracy: 0.9733\n",
      "Epoch 85/150\n",
      "54/54 [==============================] - 2s 34ms/step - loss: 0.0238 - accuracy: 0.9901 - val_loss: 0.1209 - val_accuracy: 0.9728\n",
      "Epoch 86/150\n",
      "54/54 [==============================] - 2s 34ms/step - loss: 0.0289 - accuracy: 0.9888 - val_loss: 0.1113 - val_accuracy: 0.9722\n",
      "Epoch 87/150\n",
      "54/54 [==============================] - 2s 34ms/step - loss: 0.0246 - accuracy: 0.9917 - val_loss: 0.0949 - val_accuracy: 0.9722\n",
      "Epoch 88/150\n",
      "54/54 [==============================] - 2s 34ms/step - loss: 0.0216 - accuracy: 0.9916 - val_loss: 0.1344 - val_accuracy: 0.9699\n",
      "Epoch 89/150\n",
      "54/54 [==============================] - 2s 34ms/step - loss: 0.0260 - accuracy: 0.9893 - val_loss: 0.0958 - val_accuracy: 0.9728\n",
      "Epoch 90/150\n",
      "54/54 [==============================] - 2s 34ms/step - loss: 0.0234 - accuracy: 0.9923 - val_loss: 0.1184 - val_accuracy: 0.9693\n",
      "Epoch 91/150\n",
      "54/54 [==============================] - 2s 36ms/step - loss: 0.0204 - accuracy: 0.9933 - val_loss: 0.1286 - val_accuracy: 0.9710\n",
      "Epoch 92/150\n",
      "54/54 [==============================] - 2s 34ms/step - loss: 0.0218 - accuracy: 0.9922 - val_loss: 0.1432 - val_accuracy: 0.9675\n",
      "Epoch 93/150\n",
      "54/54 [==============================] - 2s 34ms/step - loss: 0.0281 - accuracy: 0.9894 - val_loss: 0.1307 - val_accuracy: 0.9664\n",
      "Epoch 94/150\n",
      "54/54 [==============================] - 2s 34ms/step - loss: 0.0178 - accuracy: 0.9932 - val_loss: 0.1139 - val_accuracy: 0.9710\n",
      "Epoch 95/150\n",
      "54/54 [==============================] - 2s 34ms/step - loss: 0.0198 - accuracy: 0.9932 - val_loss: 0.1214 - val_accuracy: 0.9704\n",
      "Epoch 96/150\n",
      "54/54 [==============================] - 2s 34ms/step - loss: 0.0221 - accuracy: 0.9914 - val_loss: 0.1007 - val_accuracy: 0.9722\n",
      "Epoch 97/150\n",
      "54/54 [==============================] - 2s 34ms/step - loss: 0.0229 - accuracy: 0.9914 - val_loss: 0.1126 - val_accuracy: 0.9710\n",
      "Epoch 98/150\n",
      "54/54 [==============================] - 2s 34ms/step - loss: 0.0217 - accuracy: 0.9916 - val_loss: 0.1311 - val_accuracy: 0.9652\n",
      "Epoch 99/150\n",
      "54/54 [==============================] - 2s 34ms/step - loss: 0.0253 - accuracy: 0.9919 - val_loss: 0.1182 - val_accuracy: 0.9710\n",
      "Epoch 100/150\n",
      "54/54 [==============================] - 2s 34ms/step - loss: 0.0206 - accuracy: 0.9923 - val_loss: 0.1111 - val_accuracy: 0.9722\n",
      "Epoch 101/150\n",
      "54/54 [==============================] - 2s 35ms/step - loss: 0.0185 - accuracy: 0.9935 - val_loss: 0.1468 - val_accuracy: 0.9670\n",
      "Epoch 102/150\n",
      "54/54 [==============================] - 2s 34ms/step - loss: 0.0237 - accuracy: 0.9912 - val_loss: 0.0984 - val_accuracy: 0.9722\n",
      "Epoch 103/150\n",
      "54/54 [==============================] - 2s 34ms/step - loss: 0.0192 - accuracy: 0.9928 - val_loss: 0.1199 - val_accuracy: 0.9704\n",
      "Epoch 104/150\n",
      "54/54 [==============================] - 2s 34ms/step - loss: 0.0168 - accuracy: 0.9928 - val_loss: 0.1264 - val_accuracy: 0.9710\n",
      "Epoch 105/150\n",
      "54/54 [==============================] - 2s 34ms/step - loss: 0.0170 - accuracy: 0.9942 - val_loss: 0.1139 - val_accuracy: 0.9739\n",
      "Epoch 106/150\n",
      "54/54 [==============================] - 2s 34ms/step - loss: 0.0175 - accuracy: 0.9948 - val_loss: 0.1255 - val_accuracy: 0.9699\n",
      "Epoch 107/150\n",
      "54/54 [==============================] - 2s 34ms/step - loss: 0.0195 - accuracy: 0.9938 - val_loss: 0.1127 - val_accuracy: 0.9710\n",
      "Epoch 108/150\n",
      "54/54 [==============================] - 2s 35ms/step - loss: 0.0170 - accuracy: 0.9935 - val_loss: 0.1243 - val_accuracy: 0.9693\n",
      "Epoch 109/150\n",
      "54/54 [==============================] - 2s 34ms/step - loss: 0.0193 - accuracy: 0.9920 - val_loss: 0.1595 - val_accuracy: 0.9658\n",
      "Epoch 110/150\n"
     ]
    },
    {
     "name": "stdout",
     "output_type": "stream",
     "text": [
      "54/54 [==============================] - 2s 34ms/step - loss: 0.0185 - accuracy: 0.9932 - val_loss: 0.1507 - val_accuracy: 0.9664\n",
      "Epoch 111/150\n",
      "54/54 [==============================] - 2s 35ms/step - loss: 0.0208 - accuracy: 0.9928 - val_loss: 0.1374 - val_accuracy: 0.9693\n",
      "Epoch 112/150\n",
      "54/54 [==============================] - 2s 34ms/step - loss: 0.0180 - accuracy: 0.9928 - val_loss: 0.1455 - val_accuracy: 0.9687\n",
      "Epoch 113/150\n",
      "54/54 [==============================] - 2s 36ms/step - loss: 0.0179 - accuracy: 0.9933 - val_loss: 0.1213 - val_accuracy: 0.9710\n",
      "Epoch 114/150\n",
      "54/54 [==============================] - 2s 34ms/step - loss: 0.0149 - accuracy: 0.9945 - val_loss: 0.1334 - val_accuracy: 0.9704\n",
      "Epoch 115/150\n",
      "54/54 [==============================] - 2s 33ms/step - loss: 0.0138 - accuracy: 0.9946 - val_loss: 0.1295 - val_accuracy: 0.9699\n",
      "Epoch 116/150\n",
      "54/54 [==============================] - 2s 34ms/step - loss: 0.0199 - accuracy: 0.9941 - val_loss: 0.1298 - val_accuracy: 0.9675\n",
      "Epoch 117/150\n",
      "54/54 [==============================] - 2s 34ms/step - loss: 0.0190 - accuracy: 0.9941 - val_loss: 0.1151 - val_accuracy: 0.9728\n",
      "Epoch 118/150\n",
      "54/54 [==============================] - 2s 34ms/step - loss: 0.0181 - accuracy: 0.9930 - val_loss: 0.1131 - val_accuracy: 0.9745\n",
      "Epoch 119/150\n",
      "54/54 [==============================] - 2s 34ms/step - loss: 0.0178 - accuracy: 0.9942 - val_loss: 0.1434 - val_accuracy: 0.9670\n",
      "Epoch 120/150\n",
      "54/54 [==============================] - 2s 34ms/step - loss: 0.0196 - accuracy: 0.9919 - val_loss: 0.1306 - val_accuracy: 0.9722\n",
      "Epoch 121/150\n",
      "54/54 [==============================] - 2s 34ms/step - loss: 0.0135 - accuracy: 0.9954 - val_loss: 0.1164 - val_accuracy: 0.9733\n",
      "Epoch 122/150\n",
      "54/54 [==============================] - 2s 34ms/step - loss: 0.0187 - accuracy: 0.9938 - val_loss: 0.1245 - val_accuracy: 0.9716\n",
      "Epoch 123/150\n",
      "54/54 [==============================] - 2s 34ms/step - loss: 0.0101 - accuracy: 0.9964 - val_loss: 0.1616 - val_accuracy: 0.9658\n",
      "Epoch 124/150\n",
      "54/54 [==============================] - 2s 34ms/step - loss: 0.0112 - accuracy: 0.9968 - val_loss: 0.1464 - val_accuracy: 0.9704\n",
      "Epoch 125/150\n",
      "54/54 [==============================] - 2s 34ms/step - loss: 0.0153 - accuracy: 0.9949 - val_loss: 0.1292 - val_accuracy: 0.9704\n",
      "Epoch 126/150\n",
      "54/54 [==============================] - 2s 36ms/step - loss: 0.0146 - accuracy: 0.9939 - val_loss: 0.1197 - val_accuracy: 0.9728\n",
      "Epoch 127/150\n",
      "54/54 [==============================] - 2s 34ms/step - loss: 0.0180 - accuracy: 0.9936 - val_loss: 0.1335 - val_accuracy: 0.9716\n",
      "Epoch 128/150\n",
      "54/54 [==============================] - 2s 34ms/step - loss: 0.0133 - accuracy: 0.9954 - val_loss: 0.1309 - val_accuracy: 0.9710\n",
      "Epoch 129/150\n",
      "54/54 [==============================] - 2s 34ms/step - loss: 0.0176 - accuracy: 0.9930 - val_loss: 0.1064 - val_accuracy: 0.9733\n",
      "Epoch 130/150\n",
      "54/54 [==============================] - 2s 34ms/step - loss: 0.0126 - accuracy: 0.9959 - val_loss: 0.1404 - val_accuracy: 0.9704\n",
      "Epoch 131/150\n",
      "54/54 [==============================] - 2s 34ms/step - loss: 0.0133 - accuracy: 0.9958 - val_loss: 0.1278 - val_accuracy: 0.9699\n",
      "Epoch 132/150\n",
      "54/54 [==============================] - 2s 34ms/step - loss: 0.0145 - accuracy: 0.9941 - val_loss: 0.1416 - val_accuracy: 0.9699\n",
      "Epoch 133/150\n",
      "54/54 [==============================] - 2s 34ms/step - loss: 0.0170 - accuracy: 0.9935 - val_loss: 0.1375 - val_accuracy: 0.9716\n",
      "Epoch 134/150\n",
      "54/54 [==============================] - 2s 34ms/step - loss: 0.0180 - accuracy: 0.9941 - val_loss: 0.1379 - val_accuracy: 0.9664\n",
      "Epoch 135/150\n",
      "54/54 [==============================] - 2s 36ms/step - loss: 0.0180 - accuracy: 0.9936 - val_loss: 0.1210 - val_accuracy: 0.9733\n",
      "Epoch 136/150\n",
      "54/54 [==============================] - 2s 36ms/step - loss: 0.0136 - accuracy: 0.9954 - val_loss: 0.1261 - val_accuracy: 0.9722\n",
      "Epoch 137/150\n",
      "54/54 [==============================] - 2s 34ms/step - loss: 0.0117 - accuracy: 0.9964 - val_loss: 0.1305 - val_accuracy: 0.9722\n",
      "Epoch 138/150\n",
      "54/54 [==============================] - 2s 34ms/step - loss: 0.0137 - accuracy: 0.9951 - val_loss: 0.1564 - val_accuracy: 0.9710\n",
      "Epoch 139/150\n",
      "54/54 [==============================] - 2s 33ms/step - loss: 0.0137 - accuracy: 0.9959 - val_loss: 0.1312 - val_accuracy: 0.9710\n",
      "Epoch 140/150\n",
      "54/54 [==============================] - 2s 34ms/step - loss: 0.0119 - accuracy: 0.9959 - val_loss: 0.1420 - val_accuracy: 0.9687\n",
      "Epoch 141/150\n",
      "54/54 [==============================] - 2s 34ms/step - loss: 0.0110 - accuracy: 0.9958 - val_loss: 0.1178 - val_accuracy: 0.9733\n",
      "Epoch 142/150\n",
      "54/54 [==============================] - 2s 34ms/step - loss: 0.0199 - accuracy: 0.9942 - val_loss: 0.1095 - val_accuracy: 0.9745\n",
      "Epoch 143/150\n",
      "54/54 [==============================] - 2s 34ms/step - loss: 0.0148 - accuracy: 0.9951 - val_loss: 0.1095 - val_accuracy: 0.9739\n",
      "Epoch 144/150\n",
      "54/54 [==============================] - 2s 34ms/step - loss: 0.0110 - accuracy: 0.9967 - val_loss: 0.1295 - val_accuracy: 0.9733\n",
      "Epoch 145/150\n",
      "54/54 [==============================] - 2s 35ms/step - loss: 0.0156 - accuracy: 0.9935 - val_loss: 0.1397 - val_accuracy: 0.9704\n",
      "Epoch 146/150\n",
      "54/54 [==============================] - 2s 34ms/step - loss: 0.0147 - accuracy: 0.9946 - val_loss: 0.1373 - val_accuracy: 0.9693\n",
      "Epoch 147/150\n",
      "54/54 [==============================] - 2s 35ms/step - loss: 0.0120 - accuracy: 0.9951 - val_loss: 0.1660 - val_accuracy: 0.9670\n",
      "Epoch 148/150\n",
      "54/54 [==============================] - 2s 34ms/step - loss: 0.0140 - accuracy: 0.9957 - val_loss: 0.1696 - val_accuracy: 0.9652\n",
      "Epoch 149/150\n",
      "54/54 [==============================] - 2s 34ms/step - loss: 0.0134 - accuracy: 0.9957 - val_loss: 0.1507 - val_accuracy: 0.9693\n",
      "Epoch 150/150\n",
      "54/54 [==============================] - 2s 34ms/step - loss: 0.0148 - accuracy: 0.9946 - val_loss: 0.1393 - val_accuracy: 0.9710\n",
      "90/90 [==============================] - 1s 6ms/step - loss: 0.1371 - accuracy: 0.9670\n",
      "90/90 [==============================] - 1s 4ms/step\n",
      "Confusion Matrix:\n",
      "[[2323    0]\n",
      " [ 552    0]]\n",
      "Classification Report:\n",
      "              precision    recall  f1-score   support\n",
      "\n",
      "           0       0.81      1.00      0.89      2323\n",
      "           1       0.00      0.00      0.00       552\n",
      "\n",
      "    accuracy                           0.81      2875\n",
      "   macro avg       0.40      0.50      0.45      2875\n",
      "weighted avg       0.65      0.81      0.72      2875\n",
      "\n",
      "Accuracy: 0.808\n",
      "Running Time: 273.6720688343048 seconds\n"
     ]
    },
    {
     "name": "stderr",
     "output_type": "stream",
     "text": [
      "C:\\Users\\hosei\\anaconda3\\envs\\tensorjoon\\lib\\site-packages\\sklearn\\metrics\\_classification.py:1471: UndefinedMetricWarning: Precision and F-score are ill-defined and being set to 0.0 in labels with no predicted samples. Use `zero_division` parameter to control this behavior.\n",
      "  _warn_prf(average, modifier, msg_start, len(result))\n",
      "C:\\Users\\hosei\\anaconda3\\envs\\tensorjoon\\lib\\site-packages\\sklearn\\metrics\\_classification.py:1471: UndefinedMetricWarning: Precision and F-score are ill-defined and being set to 0.0 in labels with no predicted samples. Use `zero_division` parameter to control this behavior.\n",
      "  _warn_prf(average, modifier, msg_start, len(result))\n",
      "C:\\Users\\hosei\\anaconda3\\envs\\tensorjoon\\lib\\site-packages\\sklearn\\metrics\\_classification.py:1471: UndefinedMetricWarning: Precision and F-score are ill-defined and being set to 0.0 in labels with no predicted samples. Use `zero_division` parameter to control this behavior.\n",
      "  _warn_prf(average, modifier, msg_start, len(result))\n"
     ]
    }
   ],
   "source": [
    "X = data.iloc[:,1:-1].values\n",
    "X.shape\n",
    "\n",
    "y = data.iloc[:,-1:].values\n",
    "y[y>1] = 0\n",
    "y.shape\n",
    "\n",
    "start_time = time.time()\n",
    "\n",
    "X_train, X_test, y_train, y_test = train_test_split(X,y,test_size=0.25,shuffle=True)\n",
    "X_train.shape,y_test.shape\n",
    "\n",
    "def denseBlock(dims,inp) :\n",
    "    x = tf.keras.layers.BatchNormalization() (inp)\n",
    "    x = tf.keras.layers.Dense(dims,activation=tf.keras.layers.LeakyReLU(0.2)) (x)\n",
    "    x = tf.keras.layers.Dropout(0.4) (x)\n",
    "    x = tf.keras.layers.Dense(dims,activation=tf.keras.layers.LeakyReLU(0.2)) (x)\n",
    "    x = tf.keras.layers.Dropout(0.4) (x)\n",
    "    x = tf.keras.layers.Dense(dims,activation=tf.keras.layers.LeakyReLU(0.2)) (x)\n",
    "    x = tf.keras.layers.Dropout(0.4) (x)\n",
    "    x = tf.keras.layers.Dense(178,activation=tf.keras.layers.LeakyReLU(0.2)) (x)\n",
    "    return x\n",
    "\n",
    "inp = tf.keras.layers.Input(shape=(178,),name='input')\n",
    "x1 = denseBlock(256,inp)\n",
    "x2 = denseBlock(512,inp)\n",
    "x3 = denseBlock(1024,inp)\n",
    "x = tf.keras.layers.Concatenate()([x1,x2,x3])\n",
    "x = tf.keras.layers.Dense(128,activation=tf.keras.layers.LeakyReLU(0.2)) (x)\n",
    "out = tf.keras.layers.Dense(1,activation='sigmoid',name='output') (x)\n",
    "\n",
    "model = tf.keras.models.Model(inp,out)\n",
    "\n",
    "\n",
    "sc = StandardScaler()\n",
    "x_train_scaled = sc.fit_transform(X_train)\n",
    "x_test_scaled = sc.transform(X_test)\n",
    "\n",
    "model.compile(loss='binary_crossentropy',optimizer=tf.keras.optimizers.Adam(1e-4),metrics=['accuracy'])\n",
    "model.fit(X_train,y_train,epochs=150,batch_size=32,validation_split=0.2)\n",
    "\n",
    "model.evaluate(X_test,y_test)\n",
    "\n",
    "# Predict on the test set\n",
    "y_pred = model.predict(x_test_scaled)\n",
    "\n",
    "# Convert predicted probabilities to binary predictions\n",
    "y_pred_binary = (y_pred > 0.5).astype(int)\n",
    "\n",
    "end_time = time.time()\n",
    "\n",
    "# Calculate and print the confusion matrix\n",
    "conf_matrix = confusion_matrix(y_test, y_pred_binary)\n",
    "print(\"Confusion Matrix:\")\n",
    "print(conf_matrix)\n",
    "\n",
    "# Calculate and print classification report\n",
    "class_report = classification_report(y_test, y_pred_binary)\n",
    "print(\"Classification Report:\")\n",
    "print(class_report)\n",
    "\n",
    "# Calculate and print accuracy\n",
    "accuracy2 = accuracy_score(y_test, y_pred_binary)\n",
    "print(\"Accuracy:\", accuracy2)\n",
    "\n",
    "# Extract the number of seizure and non-seizure cases from the confusion matrix\n",
    "seizure_cases = conf_matrix[1, 1]  # True Positives\n",
    "non_seizure_cases = conf_matrix[0, 0]  # True Negatives\n",
    "\n",
    "elapsed_time = end_time - start_time\n",
    "print(\"Running Time:\", elapsed_time, \"seconds\")"
   ]
  },
  {
   "cell_type": "markdown",
   "id": "33ea8917",
   "metadata": {},
   "source": [
    "# CNN Model"
   ]
  },
  {
   "cell_type": "code",
   "execution_count": 6,
   "id": "dfd0bd81",
   "metadata": {},
   "outputs": [],
   "source": [
    "X = data.iloc[:, 1:-1].values\n",
    "y = data.iloc[:, -1:].values\n",
    "y[y > 1] = 0  # Convert multi-class to binary"
   ]
  },
  {
   "cell_type": "markdown",
   "id": "9f09d933",
   "metadata": {},
   "source": [
    "## Split the data into training and testing sets"
   ]
  },
  {
   "cell_type": "code",
   "execution_count": 7,
   "id": "2e91461c",
   "metadata": {},
   "outputs": [],
   "source": [
    "X_train, X_test, y_train, y_test = train_test_split(X, y, test_size=0.25, shuffle=True, random_state=42)"
   ]
  },
  {
   "cell_type": "markdown",
   "id": "da790978",
   "metadata": {},
   "source": [
    "## Standardize the data"
   ]
  },
  {
   "cell_type": "code",
   "execution_count": 8,
   "id": "b72df72c",
   "metadata": {},
   "outputs": [],
   "source": [
    "scaler = StandardScaler()\n",
    "X_train_scaled = scaler.fit_transform(X_train)\n",
    "X_test_scaled = scaler.transform(X_test)"
   ]
  },
  {
   "cell_type": "markdown",
   "id": "49212fdb",
   "metadata": {},
   "source": [
    "## Reshape the data for CNN"
   ]
  },
  {
   "cell_type": "code",
   "execution_count": 9,
   "id": "bfeeb7d5",
   "metadata": {},
   "outputs": [],
   "source": [
    "X_train_reshaped = X_train_scaled.reshape(X_train_scaled.shape[0], X_train_scaled.shape[1], 1)\n",
    "X_test_reshaped = X_test_scaled.reshape(X_test_scaled.shape[0], X_test_scaled.shape[1], 1)"
   ]
  },
  {
   "cell_type": "markdown",
   "id": "4dc61c57",
   "metadata": {},
   "source": [
    "## Build the CNN model"
   ]
  },
  {
   "cell_type": "code",
   "execution_count": 10,
   "id": "8589921f",
   "metadata": {},
   "outputs": [
    {
     "name": "stdout",
     "output_type": "stream",
     "text": [
      "WARNING:tensorflow:From C:\\Users\\hosei\\anaconda3\\envs\\tensorjoon\\lib\\site-packages\\keras\\src\\backend.py:6642: The name tf.nn.max_pool is deprecated. Please use tf.nn.max_pool2d instead.\n",
      "\n"
     ]
    }
   ],
   "source": [
    "start_time = time.time()\n",
    "model = Sequential()\n",
    "model.add(Conv1D(filters=64, kernel_size=3, activation='relu', input_shape=(X_train_reshaped.shape[1], 1)))\n",
    "model.add(MaxPooling1D(pool_size=2))\n",
    "model.add(Conv1D(filters=128, kernel_size=3, activation='relu'))\n",
    "model.add(MaxPooling1D(pool_size=2))\n",
    "model.add(Flatten())\n",
    "model.add(Dense(128, activation='relu'))\n",
    "model.add(Dropout(0.5))\n",
    "model.add(Dense(1, activation='sigmoid'))"
   ]
  },
  {
   "cell_type": "markdown",
   "id": "62a29402",
   "metadata": {},
   "source": [
    "## Compile the model"
   ]
  },
  {
   "cell_type": "code",
   "execution_count": 11,
   "id": "fd6321ef",
   "metadata": {},
   "outputs": [
    {
     "name": "stdout",
     "output_type": "stream",
     "text": [
      "WARNING:tensorflow:From C:\\Users\\hosei\\anaconda3\\envs\\tensorjoon\\lib\\site-packages\\keras\\src\\optimizers\\__init__.py:309: The name tf.train.Optimizer is deprecated. Please use tf.compat.v1.train.Optimizer instead.\n",
      "\n"
     ]
    }
   ],
   "source": [
    "model.compile(loss='binary_crossentropy', optimizer='adam', metrics=['accuracy'])"
   ]
  },
  {
   "cell_type": "markdown",
   "id": "2b9cc92b",
   "metadata": {},
   "source": [
    "## Train the model"
   ]
  },
  {
   "cell_type": "code",
   "execution_count": 12,
   "id": "7a65acfd",
   "metadata": {
    "scrolled": true
   },
   "outputs": [
    {
     "name": "stdout",
     "output_type": "stream",
     "text": [
      "Epoch 1/150\n",
      "216/216 [==============================] - 4s 11ms/step - loss: 0.1782 - accuracy: 0.9228 - val_loss: 0.1146 - val_accuracy: 0.9507\n",
      "Epoch 2/150\n",
      "216/216 [==============================] - 2s 10ms/step - loss: 0.1059 - accuracy: 0.9561 - val_loss: 0.1083 - val_accuracy: 0.9525\n",
      "Epoch 3/150\n",
      "216/216 [==============================] - 2s 10ms/step - loss: 0.0892 - accuracy: 0.9613 - val_loss: 0.0904 - val_accuracy: 0.9623\n",
      "Epoch 4/150\n",
      "216/216 [==============================] - 2s 10ms/step - loss: 0.0808 - accuracy: 0.9667 - val_loss: 0.0930 - val_accuracy: 0.9623\n",
      "Epoch 5/150\n",
      "216/216 [==============================] - 2s 10ms/step - loss: 0.0681 - accuracy: 0.9729 - val_loss: 0.0836 - val_accuracy: 0.9716\n",
      "Epoch 6/150\n",
      "216/216 [==============================] - 2s 10ms/step - loss: 0.0539 - accuracy: 0.9801 - val_loss: 0.0855 - val_accuracy: 0.9728\n",
      "Epoch 7/150\n",
      "216/216 [==============================] - 2s 11ms/step - loss: 0.0491 - accuracy: 0.9839 - val_loss: 0.0730 - val_accuracy: 0.9791\n",
      "Epoch 8/150\n",
      "216/216 [==============================] - 2s 11ms/step - loss: 0.0342 - accuracy: 0.9878 - val_loss: 0.0717 - val_accuracy: 0.9786\n",
      "Epoch 9/150\n",
      "216/216 [==============================] - 2s 10ms/step - loss: 0.0314 - accuracy: 0.9890 - val_loss: 0.0631 - val_accuracy: 0.9797\n",
      "Epoch 10/150\n",
      "216/216 [==============================] - 2s 10ms/step - loss: 0.0273 - accuracy: 0.9913 - val_loss: 0.0687 - val_accuracy: 0.9780\n",
      "Epoch 11/150\n",
      "216/216 [==============================] - 2s 9ms/step - loss: 0.0212 - accuracy: 0.9922 - val_loss: 0.0813 - val_accuracy: 0.9791\n",
      "Epoch 12/150\n",
      "216/216 [==============================] - 2s 10ms/step - loss: 0.0185 - accuracy: 0.9938 - val_loss: 0.0680 - val_accuracy: 0.9832\n",
      "Epoch 13/150\n",
      "216/216 [==============================] - 2s 10ms/step - loss: 0.0143 - accuracy: 0.9957 - val_loss: 0.0791 - val_accuracy: 0.9814\n",
      "Epoch 14/150\n",
      "216/216 [==============================] - 2s 10ms/step - loss: 0.0149 - accuracy: 0.9951 - val_loss: 0.0976 - val_accuracy: 0.9768\n",
      "Epoch 15/150\n",
      "216/216 [==============================] - 2s 10ms/step - loss: 0.0143 - accuracy: 0.9958 - val_loss: 0.0676 - val_accuracy: 0.9814\n",
      "Epoch 16/150\n",
      "216/216 [==============================] - 2s 10ms/step - loss: 0.0184 - accuracy: 0.9926 - val_loss: 0.0803 - val_accuracy: 0.9791\n",
      "Epoch 17/150\n",
      "216/216 [==============================] - 2s 9ms/step - loss: 0.0112 - accuracy: 0.9965 - val_loss: 0.0906 - val_accuracy: 0.9791\n",
      "Epoch 18/150\n",
      "216/216 [==============================] - 2s 10ms/step - loss: 0.0074 - accuracy: 0.9977 - val_loss: 0.1009 - val_accuracy: 0.9826\n",
      "Epoch 19/150\n",
      "216/216 [==============================] - 2s 10ms/step - loss: 0.0093 - accuracy: 0.9967 - val_loss: 0.1071 - val_accuracy: 0.9762\n",
      "Epoch 20/150\n",
      "216/216 [==============================] - 2s 10ms/step - loss: 0.0090 - accuracy: 0.9970 - val_loss: 0.0905 - val_accuracy: 0.9786\n",
      "Epoch 21/150\n",
      "216/216 [==============================] - 2s 10ms/step - loss: 0.0081 - accuracy: 0.9972 - val_loss: 0.0895 - val_accuracy: 0.9809\n",
      "Epoch 22/150\n",
      "216/216 [==============================] - 2s 10ms/step - loss: 0.0053 - accuracy: 0.9977 - val_loss: 0.1119 - val_accuracy: 0.9803\n",
      "Epoch 23/150\n",
      "216/216 [==============================] - 2s 10ms/step - loss: 0.0045 - accuracy: 0.9983 - val_loss: 0.1643 - val_accuracy: 0.9739\n",
      "Epoch 24/150\n",
      "216/216 [==============================] - 2s 10ms/step - loss: 0.0083 - accuracy: 0.9977 - val_loss: 0.1427 - val_accuracy: 0.9757\n",
      "Epoch 25/150\n",
      "216/216 [==============================] - 2s 10ms/step - loss: 0.0094 - accuracy: 0.9971 - val_loss: 0.1035 - val_accuracy: 0.9809\n",
      "Epoch 26/150\n",
      "216/216 [==============================] - 2s 10ms/step - loss: 0.0073 - accuracy: 0.9977 - val_loss: 0.1046 - val_accuracy: 0.9809\n",
      "Epoch 27/150\n",
      "216/216 [==============================] - 2s 10ms/step - loss: 0.0029 - accuracy: 0.9993 - val_loss: 0.1226 - val_accuracy: 0.9791\n",
      "Epoch 28/150\n",
      "216/216 [==============================] - 2s 10ms/step - loss: 0.0037 - accuracy: 0.9988 - val_loss: 0.1132 - val_accuracy: 0.9820\n",
      "Epoch 29/150\n",
      "216/216 [==============================] - 2s 10ms/step - loss: 0.0024 - accuracy: 0.9991 - val_loss: 0.1064 - val_accuracy: 0.9809\n",
      "Epoch 30/150\n",
      "216/216 [==============================] - 2s 10ms/step - loss: 0.0047 - accuracy: 0.9986 - val_loss: 0.1065 - val_accuracy: 0.9814\n",
      "Epoch 31/150\n",
      "216/216 [==============================] - 2s 10ms/step - loss: 0.0046 - accuracy: 0.9990 - val_loss: 0.1390 - val_accuracy: 0.9774\n",
      "Epoch 32/150\n",
      "216/216 [==============================] - 2s 10ms/step - loss: 0.0012 - accuracy: 0.9999 - val_loss: 0.1318 - val_accuracy: 0.9791\n",
      "Epoch 33/150\n",
      "216/216 [==============================] - 2s 10ms/step - loss: 0.0055 - accuracy: 0.9981 - val_loss: 0.1212 - val_accuracy: 0.9786\n",
      "Epoch 34/150\n",
      "216/216 [==============================] - 2s 10ms/step - loss: 0.0045 - accuracy: 0.9987 - val_loss: 0.1154 - val_accuracy: 0.9803\n",
      "Epoch 35/150\n",
      "216/216 [==============================] - 2s 10ms/step - loss: 0.0053 - accuracy: 0.9974 - val_loss: 0.1335 - val_accuracy: 0.9791\n",
      "Epoch 36/150\n",
      "216/216 [==============================] - 2s 10ms/step - loss: 0.0031 - accuracy: 0.9988 - val_loss: 0.1524 - val_accuracy: 0.9820\n",
      "Epoch 37/150\n",
      "216/216 [==============================] - 2s 10ms/step - loss: 0.0089 - accuracy: 0.9975 - val_loss: 0.1149 - val_accuracy: 0.9809\n",
      "Epoch 38/150\n",
      "216/216 [==============================] - 2s 10ms/step - loss: 0.0043 - accuracy: 0.9990 - val_loss: 0.1530 - val_accuracy: 0.9809\n",
      "Epoch 39/150\n",
      "216/216 [==============================] - 2s 10ms/step - loss: 0.0032 - accuracy: 0.9988 - val_loss: 0.1577 - val_accuracy: 0.9820\n",
      "Epoch 40/150\n",
      "216/216 [==============================] - 2s 10ms/step - loss: 0.0092 - accuracy: 0.9972 - val_loss: 0.1068 - val_accuracy: 0.9803\n",
      "Epoch 41/150\n",
      "216/216 [==============================] - 2s 10ms/step - loss: 0.0041 - accuracy: 0.9986 - val_loss: 0.1269 - val_accuracy: 0.9797\n",
      "Epoch 42/150\n",
      "216/216 [==============================] - 2s 10ms/step - loss: 0.0030 - accuracy: 0.9988 - val_loss: 0.1268 - val_accuracy: 0.9832\n",
      "Epoch 43/150\n",
      "216/216 [==============================] - 2s 10ms/step - loss: 0.0019 - accuracy: 0.9996 - val_loss: 0.1292 - val_accuracy: 0.9838\n",
      "Epoch 44/150\n",
      "216/216 [==============================] - 2s 10ms/step - loss: 7.5199e-04 - accuracy: 0.9996 - val_loss: 0.1260 - val_accuracy: 0.9838\n",
      "Epoch 45/150\n",
      "216/216 [==============================] - 2s 10ms/step - loss: 6.7547e-04 - accuracy: 0.9999 - val_loss: 0.1415 - val_accuracy: 0.9814\n",
      "Epoch 46/150\n",
      "216/216 [==============================] - 2s 10ms/step - loss: 0.0036 - accuracy: 0.9988 - val_loss: 0.1359 - val_accuracy: 0.9814\n",
      "Epoch 47/150\n",
      "216/216 [==============================] - 2s 10ms/step - loss: 0.0014 - accuracy: 0.9996 - val_loss: 0.1623 - val_accuracy: 0.9797\n",
      "Epoch 48/150\n",
      "216/216 [==============================] - 2s 10ms/step - loss: 0.0062 - accuracy: 0.9978 - val_loss: 0.1088 - val_accuracy: 0.9809\n",
      "Epoch 49/150\n",
      "216/216 [==============================] - 2s 10ms/step - loss: 0.0051 - accuracy: 0.9980 - val_loss: 0.1372 - val_accuracy: 0.9843\n",
      "Epoch 50/150\n",
      "216/216 [==============================] - 2s 10ms/step - loss: 0.0020 - accuracy: 0.9993 - val_loss: 0.1616 - val_accuracy: 0.9809\n",
      "Epoch 51/150\n",
      "216/216 [==============================] - 2s 10ms/step - loss: 0.0084 - accuracy: 0.9975 - val_loss: 0.1063 - val_accuracy: 0.9826\n",
      "Epoch 52/150\n",
      "216/216 [==============================] - 2s 10ms/step - loss: 0.0033 - accuracy: 0.9990 - val_loss: 0.1580 - val_accuracy: 0.9786\n",
      "Epoch 53/150\n",
      "216/216 [==============================] - 2s 10ms/step - loss: 0.0013 - accuracy: 0.9997 - val_loss: 0.1372 - val_accuracy: 0.9820\n",
      "Epoch 54/150\n",
      "216/216 [==============================] - 2s 10ms/step - loss: 0.0012 - accuracy: 0.9996 - val_loss: 0.1261 - val_accuracy: 0.9838\n",
      "Epoch 55/150\n",
      "216/216 [==============================] - 2s 10ms/step - loss: 0.0012 - accuracy: 0.9997 - val_loss: 0.1290 - val_accuracy: 0.9832\n",
      "Epoch 56/150\n",
      "216/216 [==============================] - 2s 10ms/step - loss: 0.0022 - accuracy: 0.9991 - val_loss: 0.1515 - val_accuracy: 0.9820\n",
      "Epoch 57/150\n",
      "216/216 [==============================] - 2s 10ms/step - loss: 6.5782e-04 - accuracy: 1.0000 - val_loss: 0.1336 - val_accuracy: 0.9838\n",
      "Epoch 58/150\n",
      "216/216 [==============================] - 2s 10ms/step - loss: 0.0038 - accuracy: 0.9986 - val_loss: 0.1574 - val_accuracy: 0.9803\n",
      "Epoch 59/150\n",
      "216/216 [==============================] - 2s 10ms/step - loss: 0.0043 - accuracy: 0.9986 - val_loss: 0.1067 - val_accuracy: 0.9820\n",
      "Epoch 60/150\n",
      "216/216 [==============================] - 2s 10ms/step - loss: 0.0019 - accuracy: 0.9997 - val_loss: 0.2690 - val_accuracy: 0.9739\n",
      "Epoch 61/150\n",
      "216/216 [==============================] - 2s 10ms/step - loss: 0.0040 - accuracy: 0.9988 - val_loss: 0.1379 - val_accuracy: 0.9814\n",
      "Epoch 62/150\n",
      "216/216 [==============================] - 2s 10ms/step - loss: 0.0022 - accuracy: 0.9993 - val_loss: 0.1486 - val_accuracy: 0.9814\n",
      "Epoch 63/150\n",
      "216/216 [==============================] - 2s 10ms/step - loss: 0.0037 - accuracy: 0.9990 - val_loss: 0.1968 - val_accuracy: 0.9814\n",
      "Epoch 64/150\n",
      "216/216 [==============================] - 2s 10ms/step - loss: 0.0058 - accuracy: 0.9984 - val_loss: 0.1412 - val_accuracy: 0.9843\n",
      "Epoch 65/150\n",
      "216/216 [==============================] - 2s 10ms/step - loss: 0.0017 - accuracy: 0.9994 - val_loss: 0.1499 - val_accuracy: 0.9809\n",
      "Epoch 66/150\n",
      "216/216 [==============================] - 2s 10ms/step - loss: 6.4335e-04 - accuracy: 1.0000 - val_loss: 0.1406 - val_accuracy: 0.9832\n",
      "Epoch 67/150\n",
      "216/216 [==============================] - 2s 10ms/step - loss: 0.0014 - accuracy: 0.9997 - val_loss: 0.1959 - val_accuracy: 0.9762\n",
      "Epoch 68/150\n",
      "216/216 [==============================] - 2s 10ms/step - loss: 0.0025 - accuracy: 0.9990 - val_loss: 0.1665 - val_accuracy: 0.9774\n",
      "Epoch 69/150\n",
      "216/216 [==============================] - 2s 9ms/step - loss: 0.0046 - accuracy: 0.9983 - val_loss: 0.1840 - val_accuracy: 0.9820\n",
      "Epoch 70/150\n",
      "216/216 [==============================] - 2s 10ms/step - loss: 0.0012 - accuracy: 0.9996 - val_loss: 0.1650 - val_accuracy: 0.9809\n",
      "Epoch 71/150\n",
      "216/216 [==============================] - 2s 10ms/step - loss: 4.4399e-04 - accuracy: 0.9999 - val_loss: 0.1625 - val_accuracy: 0.9809\n",
      "Epoch 72/150\n",
      "216/216 [==============================] - 2s 10ms/step - loss: 3.8671e-04 - accuracy: 0.9999 - val_loss: 0.1225 - val_accuracy: 0.9838\n",
      "Epoch 73/150\n",
      "216/216 [==============================] - 2s 11ms/step - loss: 0.0023 - accuracy: 0.9994 - val_loss: 0.2266 - val_accuracy: 0.9809\n",
      "Epoch 74/150\n",
      "216/216 [==============================] - 2s 10ms/step - loss: 0.0027 - accuracy: 0.9991 - val_loss: 0.1320 - val_accuracy: 0.9843\n",
      "Epoch 75/150\n",
      "216/216 [==============================] - 2s 9ms/step - loss: 0.0059 - accuracy: 0.9981 - val_loss: 0.1532 - val_accuracy: 0.9809\n",
      "Epoch 76/150\n",
      "216/216 [==============================] - 2s 10ms/step - loss: 0.0055 - accuracy: 0.9984 - val_loss: 0.1519 - val_accuracy: 0.9832\n",
      "Epoch 77/150\n",
      "216/216 [==============================] - 2s 11ms/step - loss: 0.0020 - accuracy: 0.9993 - val_loss: 0.1553 - val_accuracy: 0.9843\n",
      "Epoch 78/150\n",
      "216/216 [==============================] - 2s 10ms/step - loss: 0.0017 - accuracy: 0.9993 - val_loss: 0.1742 - val_accuracy: 0.9826\n",
      "Epoch 79/150\n",
      "216/216 [==============================] - 2s 11ms/step - loss: 0.0060 - accuracy: 0.9981 - val_loss: 0.1540 - val_accuracy: 0.9826\n",
      "Epoch 80/150\n",
      "216/216 [==============================] - 2s 10ms/step - loss: 0.0050 - accuracy: 0.9983 - val_loss: 0.2286 - val_accuracy: 0.9768\n",
      "Epoch 81/150\n",
      "216/216 [==============================] - 2s 11ms/step - loss: 0.0018 - accuracy: 0.9994 - val_loss: 0.1866 - val_accuracy: 0.9832\n",
      "Epoch 82/150\n",
      "216/216 [==============================] - 2s 11ms/step - loss: 0.0012 - accuracy: 0.9997 - val_loss: 0.1638 - val_accuracy: 0.9843\n",
      "Epoch 83/150\n",
      "216/216 [==============================] - 2s 11ms/step - loss: 0.0022 - accuracy: 0.9994 - val_loss: 0.1241 - val_accuracy: 0.9826\n",
      "Epoch 84/150\n",
      "216/216 [==============================] - 2s 11ms/step - loss: 0.0010 - accuracy: 0.9997 - val_loss: 0.1415 - val_accuracy: 0.9855\n",
      "Epoch 85/150\n",
      "216/216 [==============================] - 2s 11ms/step - loss: 3.8543e-04 - accuracy: 1.0000 - val_loss: 0.1564 - val_accuracy: 0.9861\n",
      "Epoch 86/150\n",
      "216/216 [==============================] - 2s 11ms/step - loss: 5.9894e-04 - accuracy: 0.9999 - val_loss: 0.1486 - val_accuracy: 0.9838\n",
      "Epoch 87/150\n",
      "216/216 [==============================] - 2s 10ms/step - loss: 2.4045e-04 - accuracy: 1.0000 - val_loss: 0.1542 - val_accuracy: 0.9838\n",
      "Epoch 88/150\n",
      "216/216 [==============================] - 2s 11ms/step - loss: 9.3896e-04 - accuracy: 0.9999 - val_loss: 0.1666 - val_accuracy: 0.9838\n",
      "Epoch 89/150\n",
      "216/216 [==============================] - 2s 11ms/step - loss: 0.0055 - accuracy: 0.9987 - val_loss: 0.1751 - val_accuracy: 0.9803\n",
      "Epoch 90/150\n",
      "216/216 [==============================] - 2s 11ms/step - loss: 0.0030 - accuracy: 0.9987 - val_loss: 0.2098 - val_accuracy: 0.9803\n",
      "Epoch 91/150\n",
      "216/216 [==============================] - 2s 11ms/step - loss: 6.2819e-04 - accuracy: 0.9999 - val_loss: 0.1760 - val_accuracy: 0.9820\n",
      "Epoch 92/150\n",
      "216/216 [==============================] - 2s 11ms/step - loss: 6.0405e-04 - accuracy: 0.9997 - val_loss: 0.1705 - val_accuracy: 0.9826\n",
      "Epoch 93/150\n",
      "216/216 [==============================] - 2s 11ms/step - loss: 0.0011 - accuracy: 0.9997 - val_loss: 0.2456 - val_accuracy: 0.9803\n",
      "Epoch 94/150\n",
      "216/216 [==============================] - 2s 10ms/step - loss: 0.0023 - accuracy: 0.9991 - val_loss: 0.1727 - val_accuracy: 0.9849\n",
      "Epoch 95/150\n",
      "216/216 [==============================] - 2s 10ms/step - loss: 0.0097 - accuracy: 0.9980 - val_loss: 0.1331 - val_accuracy: 0.9791\n",
      "Epoch 96/150\n",
      "216/216 [==============================] - 2s 11ms/step - loss: 0.0031 - accuracy: 0.9990 - val_loss: 0.1306 - val_accuracy: 0.9814\n",
      "Epoch 97/150\n",
      "216/216 [==============================] - 2s 11ms/step - loss: 0.0057 - accuracy: 0.9987 - val_loss: 0.1684 - val_accuracy: 0.9832\n",
      "Epoch 98/150\n",
      "216/216 [==============================] - 2s 11ms/step - loss: 5.9358e-04 - accuracy: 0.9999 - val_loss: 0.1961 - val_accuracy: 0.9838\n",
      "Epoch 99/150\n",
      "216/216 [==============================] - 2s 11ms/step - loss: 6.8260e-04 - accuracy: 0.9996 - val_loss: 0.2201 - val_accuracy: 0.9820\n",
      "Epoch 100/150\n",
      "216/216 [==============================] - 2s 10ms/step - loss: 0.0016 - accuracy: 0.9994 - val_loss: 0.1960 - val_accuracy: 0.9809\n",
      "Epoch 101/150\n",
      "216/216 [==============================] - 2s 11ms/step - loss: 0.0013 - accuracy: 0.9994 - val_loss: 0.2047 - val_accuracy: 0.9814\n",
      "Epoch 102/150\n",
      "216/216 [==============================] - 2s 11ms/step - loss: 2.1948e-04 - accuracy: 0.9999 - val_loss: 0.2015 - val_accuracy: 0.9820\n",
      "Epoch 103/150\n",
      "216/216 [==============================] - 2s 11ms/step - loss: 8.4892e-04 - accuracy: 0.9999 - val_loss: 0.2325 - val_accuracy: 0.9791\n",
      "Epoch 104/150\n",
      "216/216 [==============================] - 2s 11ms/step - loss: 0.0033 - accuracy: 0.9990 - val_loss: 0.1658 - val_accuracy: 0.9826\n",
      "Epoch 105/150\n",
      "216/216 [==============================] - 2s 11ms/step - loss: 0.0045 - accuracy: 0.9991 - val_loss: 0.2192 - val_accuracy: 0.9803\n",
      "Epoch 106/150\n",
      "216/216 [==============================] - 2s 11ms/step - loss: 0.0011 - accuracy: 0.9994 - val_loss: 0.2598 - val_accuracy: 0.9774\n",
      "Epoch 107/150\n",
      "216/216 [==============================] - 2s 11ms/step - loss: 2.8219e-04 - accuracy: 0.9999 - val_loss: 0.2445 - val_accuracy: 0.9814\n",
      "Epoch 108/150\n",
      "216/216 [==============================] - 2s 11ms/step - loss: 0.0054 - accuracy: 0.9987 - val_loss: 0.2210 - val_accuracy: 0.9809\n",
      "Epoch 109/150\n",
      "216/216 [==============================] - 2s 11ms/step - loss: 0.0070 - accuracy: 0.9986 - val_loss: 0.1723 - val_accuracy: 0.9843\n",
      "Epoch 110/150\n",
      "216/216 [==============================] - 2s 11ms/step - loss: 7.9677e-04 - accuracy: 0.9997 - val_loss: 0.1947 - val_accuracy: 0.9838\n",
      "Epoch 111/150\n",
      "216/216 [==============================] - 2s 11ms/step - loss: 0.0034 - accuracy: 0.9987 - val_loss: 0.3120 - val_accuracy: 0.9768\n",
      "Epoch 112/150\n",
      "216/216 [==============================] - 2s 11ms/step - loss: 0.0018 - accuracy: 0.9996 - val_loss: 0.2001 - val_accuracy: 0.9832\n",
      "Epoch 113/150\n"
     ]
    },
    {
     "name": "stdout",
     "output_type": "stream",
     "text": [
      "216/216 [==============================] - 2s 10ms/step - loss: 8.6950e-04 - accuracy: 0.9997 - val_loss: 0.1932 - val_accuracy: 0.9855\n",
      "Epoch 114/150\n",
      "216/216 [==============================] - 2s 11ms/step - loss: 0.0018 - accuracy: 0.9991 - val_loss: 0.2004 - val_accuracy: 0.9843\n",
      "Epoch 115/150\n",
      "216/216 [==============================] - 2s 11ms/step - loss: 4.4439e-04 - accuracy: 0.9997 - val_loss: 0.2137 - val_accuracy: 0.9855\n",
      "Epoch 116/150\n",
      "216/216 [==============================] - 2s 11ms/step - loss: 3.9554e-04 - accuracy: 0.9999 - val_loss: 0.1998 - val_accuracy: 0.9861\n",
      "Epoch 117/150\n",
      "216/216 [==============================] - 2s 11ms/step - loss: 0.0011 - accuracy: 0.9996 - val_loss: 0.2144 - val_accuracy: 0.9826\n",
      "Epoch 118/150\n",
      "216/216 [==============================] - 2s 11ms/step - loss: 7.3928e-04 - accuracy: 0.9999 - val_loss: 0.2082 - val_accuracy: 0.9838\n",
      "Epoch 119/150\n",
      "216/216 [==============================] - 2s 11ms/step - loss: 3.6521e-04 - accuracy: 0.9999 - val_loss: 0.2156 - val_accuracy: 0.9832\n",
      "Epoch 120/150\n",
      "216/216 [==============================] - 2s 10ms/step - loss: 2.4202e-04 - accuracy: 1.0000 - val_loss: 0.2614 - val_accuracy: 0.9797\n",
      "Epoch 121/150\n",
      "216/216 [==============================] - 2s 11ms/step - loss: 0.0029 - accuracy: 0.9991 - val_loss: 0.1947 - val_accuracy: 0.9838\n",
      "Epoch 122/150\n",
      "216/216 [==============================] - 2s 11ms/step - loss: 0.0012 - accuracy: 0.9994 - val_loss: 0.2056 - val_accuracy: 0.9826\n",
      "Epoch 123/150\n",
      "216/216 [==============================] - 2s 10ms/step - loss: 7.2716e-04 - accuracy: 0.9997 - val_loss: 0.2073 - val_accuracy: 0.9820\n",
      "Epoch 124/150\n",
      "216/216 [==============================] - 2s 11ms/step - loss: 0.0012 - accuracy: 0.9996 - val_loss: 0.1656 - val_accuracy: 0.9861\n",
      "Epoch 125/150\n",
      "216/216 [==============================] - 2s 10ms/step - loss: 5.8297e-04 - accuracy: 0.9999 - val_loss: 0.1972 - val_accuracy: 0.9849\n",
      "Epoch 126/150\n",
      "216/216 [==============================] - 2s 10ms/step - loss: 0.0042 - accuracy: 0.9991 - val_loss: 0.1993 - val_accuracy: 0.9838\n",
      "Epoch 127/150\n",
      "216/216 [==============================] - 2s 11ms/step - loss: 0.0012 - accuracy: 0.9997 - val_loss: 0.2054 - val_accuracy: 0.9826\n",
      "Epoch 128/150\n",
      "216/216 [==============================] - 2s 10ms/step - loss: 0.0011 - accuracy: 0.9994 - val_loss: 0.2562 - val_accuracy: 0.9797\n",
      "Epoch 129/150\n",
      "216/216 [==============================] - 2s 11ms/step - loss: 0.0011 - accuracy: 0.9996 - val_loss: 0.1907 - val_accuracy: 0.9849\n",
      "Epoch 130/150\n",
      "216/216 [==============================] - 2s 11ms/step - loss: 0.0020 - accuracy: 0.9994 - val_loss: 0.1633 - val_accuracy: 0.9832\n",
      "Epoch 131/150\n",
      "216/216 [==============================] - 2s 11ms/step - loss: 5.5847e-04 - accuracy: 0.9999 - val_loss: 0.1847 - val_accuracy: 0.9826\n",
      "Epoch 132/150\n",
      "216/216 [==============================] - 2s 11ms/step - loss: 6.7789e-04 - accuracy: 0.9997 - val_loss: 0.1777 - val_accuracy: 0.9838\n",
      "Epoch 133/150\n",
      "216/216 [==============================] - 2s 10ms/step - loss: 0.0017 - accuracy: 0.9993 - val_loss: 0.3497 - val_accuracy: 0.9774\n",
      "Epoch 134/150\n",
      "216/216 [==============================] - 2s 10ms/step - loss: 0.0068 - accuracy: 0.9983 - val_loss: 0.1798 - val_accuracy: 0.9838\n",
      "Epoch 135/150\n",
      "216/216 [==============================] - 2s 10ms/step - loss: 0.0044 - accuracy: 0.9986 - val_loss: 0.2242 - val_accuracy: 0.9803\n",
      "Epoch 136/150\n",
      "216/216 [==============================] - 2s 10ms/step - loss: 0.0039 - accuracy: 0.9990 - val_loss: 0.1489 - val_accuracy: 0.9838\n",
      "Epoch 137/150\n",
      "216/216 [==============================] - 2s 10ms/step - loss: 0.0012 - accuracy: 0.9996 - val_loss: 0.1604 - val_accuracy: 0.9843\n",
      "Epoch 138/150\n",
      "216/216 [==============================] - 2s 10ms/step - loss: 7.5219e-04 - accuracy: 0.9997 - val_loss: 0.1740 - val_accuracy: 0.9820\n",
      "Epoch 139/150\n",
      "216/216 [==============================] - 2s 10ms/step - loss: 0.0028 - accuracy: 0.9990 - val_loss: 0.2634 - val_accuracy: 0.9814\n",
      "Epoch 140/150\n",
      "216/216 [==============================] - 2s 11ms/step - loss: 3.2923e-04 - accuracy: 0.9999 - val_loss: 0.1609 - val_accuracy: 0.9861\n",
      "Epoch 141/150\n",
      "216/216 [==============================] - 2s 10ms/step - loss: 4.0308e-04 - accuracy: 0.9999 - val_loss: 0.2064 - val_accuracy: 0.9832\n",
      "Epoch 142/150\n",
      "216/216 [==============================] - 2s 10ms/step - loss: 0.0024 - accuracy: 0.9994 - val_loss: 0.1803 - val_accuracy: 0.9832\n",
      "Epoch 143/150\n",
      "216/216 [==============================] - 2s 10ms/step - loss: 9.5136e-04 - accuracy: 0.9996 - val_loss: 0.1841 - val_accuracy: 0.9849\n",
      "Epoch 144/150\n",
      "216/216 [==============================] - 2s 10ms/step - loss: 1.2097e-04 - accuracy: 1.0000 - val_loss: 0.1934 - val_accuracy: 0.9838\n",
      "Epoch 145/150\n",
      "216/216 [==============================] - 2s 10ms/step - loss: 9.5069e-04 - accuracy: 0.9996 - val_loss: 0.1992 - val_accuracy: 0.9832\n",
      "Epoch 146/150\n",
      "216/216 [==============================] - 2s 10ms/step - loss: 6.0069e-04 - accuracy: 0.9999 - val_loss: 0.2165 - val_accuracy: 0.9832\n",
      "Epoch 147/150\n",
      "216/216 [==============================] - 2s 11ms/step - loss: 0.0012 - accuracy: 0.9997 - val_loss: 0.2383 - val_accuracy: 0.9757\n",
      "Epoch 148/150\n",
      "216/216 [==============================] - 2s 10ms/step - loss: 0.0020 - accuracy: 0.9993 - val_loss: 0.2127 - val_accuracy: 0.9820\n",
      "Epoch 149/150\n",
      "216/216 [==============================] - 2s 11ms/step - loss: 0.0031 - accuracy: 0.9993 - val_loss: 0.1892 - val_accuracy: 0.9838\n",
      "Epoch 150/150\n",
      "216/216 [==============================] - 3s 12ms/step - loss: 8.6096e-04 - accuracy: 0.9997 - val_loss: 0.1832 - val_accuracy: 0.9849\n"
     ]
    }
   ],
   "source": [
    "history = model.fit(X_train_reshaped, y_train, epochs=150, batch_size=32, validation_split=0.2)"
   ]
  },
  {
   "cell_type": "code",
   "execution_count": 13,
   "id": "e1e9bce2",
   "metadata": {},
   "outputs": [
    {
     "name": "stdout",
     "output_type": "stream",
     "text": [
      "Running Time: 338.57639622688293 seconds\n"
     ]
    }
   ],
   "source": [
    "end_time = time.time()\n",
    "elapsed_time = end_time - start_time\n",
    "print(\"Running Time:\", elapsed_time, \"seconds\")"
   ]
  },
  {
   "cell_type": "markdown",
   "id": "c19ba35c",
   "metadata": {},
   "source": [
    "## Evaluate the model"
   ]
  },
  {
   "cell_type": "code",
   "execution_count": 14,
   "id": "4071918d",
   "metadata": {},
   "outputs": [
    {
     "name": "stdout",
     "output_type": "stream",
     "text": [
      "90/90 [==============================] - 1s 5ms/step\n"
     ]
    }
   ],
   "source": [
    "y_pred = model.predict(X_test_reshaped)\n",
    "y_pred_binary = (y_pred > 0.5).astype(int)"
   ]
  },
  {
   "cell_type": "markdown",
   "id": "c0dafb0d",
   "metadata": {},
   "source": [
    "## Calculate and print the confusion matrix"
   ]
  },
  {
   "cell_type": "code",
   "execution_count": 15,
   "id": "020a6c2d",
   "metadata": {},
   "outputs": [
    {
     "name": "stdout",
     "output_type": "stream",
     "text": [
      "Confusion Matrix:\n",
      "[[2274   11]\n",
      " [  35  555]]\n"
     ]
    }
   ],
   "source": [
    "conf_matrix = confusion_matrix(y_test, y_pred_binary)\n",
    "print(\"Confusion Matrix:\")\n",
    "print(conf_matrix)"
   ]
  },
  {
   "cell_type": "markdown",
   "id": "6e1525c4",
   "metadata": {},
   "source": [
    "## Calculate and print classification report"
   ]
  },
  {
   "cell_type": "code",
   "execution_count": 16,
   "id": "008969d0",
   "metadata": {},
   "outputs": [
    {
     "name": "stdout",
     "output_type": "stream",
     "text": [
      "Classification Report:\n",
      "              precision    recall  f1-score   support\n",
      "\n",
      "           0       0.98      1.00      0.99      2285\n",
      "           1       0.98      0.94      0.96       590\n",
      "\n",
      "    accuracy                           0.98      2875\n",
      "   macro avg       0.98      0.97      0.98      2875\n",
      "weighted avg       0.98      0.98      0.98      2875\n",
      "\n"
     ]
    }
   ],
   "source": [
    "class_report = classification_report(y_test, y_pred_binary)\n",
    "print(\"Classification Report:\")\n",
    "print(class_report)"
   ]
  },
  {
   "cell_type": "markdown",
   "id": "05f826ae",
   "metadata": {},
   "source": [
    "## Calculate and print accuracy"
   ]
  },
  {
   "cell_type": "code",
   "execution_count": 17,
   "id": "ce58e471",
   "metadata": {},
   "outputs": [
    {
     "name": "stdout",
     "output_type": "stream",
     "text": [
      "Accuracy: 0.984\n"
     ]
    }
   ],
   "source": [
    "accuracy3 = accuracy_score(y_test, y_pred_binary)\n",
    "print(\"Accuracy:\", accuracy3)"
   ]
  },
  {
   "cell_type": "markdown",
   "id": "0876098d",
   "metadata": {},
   "source": [
    "## Plot training history"
   ]
  },
  {
   "cell_type": "code",
   "execution_count": 18,
   "id": "839f57c6",
   "metadata": {},
   "outputs": [
    {
     "data": {
      "image/png": "[encoded data removed]",
      "text/plain": [
       "<Figure size 640x480 with 1 Axes>"
      ]
     },
     "metadata": {},
     "output_type": "display_data"
    }
   ],
   "source": [
    "plt.plot(history.history['accuracy'], label='Train Accuracy')\n",
    "plt.plot(history.history['val_accuracy'], label='Validation Accuracy')\n",
    "plt.title('Training and Validation Accuracy')\n",
    "plt.xlabel('Epochs')\n",
    "plt.ylabel('Accuracy')\n",
    "plt.legend()\n",
    "plt.show()"
   ]
  },
  {
   "cell_type": "markdown",
   "id": "d349bf96",
   "metadata": {},
   "source": [
    "# Comparison between the Models"
   ]
  },
  {
   "cell_type": "code",
   "execution_count": 19,
   "id": "ae9f4ee8",
   "metadata": {},
   "outputs": [
    {
     "data": {
      "image/png": "[encoded data removed]",
      "text/plain": [
       "<Figure size 640x480 with 1 Axes>"
      ]
     },
     "metadata": {},
     "output_type": "display_data"
    }
   ],
   "source": [
    "import matplotlib.pyplot as plt\n",
    "\n",
    "\n",
    "svm_accuracy = accuracy  #  accuracy variable for SVM\n",
    "dnn_accuracy = accuracy2  # accuracy variable for DNN\n",
    "cnn_accuracy = accuracy3  # accuracy variable for CNN\n",
    "\n",
    "# Plotting\n",
    "labels = ['SVM', 'DNN', 'CNN']\n",
    "accuracies = [svm_accuracy, dnn_accuracy, cnn_accuracy]\n",
    "\n",
    "plt.bar(labels, accuracies, color=['blue', 'green', 'red'])\n",
    "plt.ylabel('Accuracy')\n",
    "plt.title('Comparison of Model Accuracies')\n",
    "plt.ylim([0, 1])  # Set the y-axis limit between 0 and 1 for accuracy\n",
    "plt.show()\n"
   ]
  },
  {
   "cell_type": "markdown",
   "id": "6b8a9ecf",
   "metadata": {},
   "source": [
    "Towards the end, due to the rapid response, I came to the realization that employing **SVM** is more advantageous for swift **detection**. However, for heightened accuracy and **prediction** scenarios, CNN prove to be more effective. Consequently, my decision is to utilize  **CNN** for this specific dataset."
   ]
  }
 ],
 "metadata": {
  "kernelspec": {
   "display_name": "tensorjoon",
   "language": "python",
   "name": "tensorjoon"
  },
  "language_info": {
   "codemirror_mode": {
    "name": "ipython",
    "version": 3
   },
   "file_extension": ".py",
   "mimetype": "text/x-python",
   "name": "python",
   "nbconvert_exporter": "python",
   "pygments_lexer": "ipython3",
   "version": "3.9.18"
  }
 },
 "nbformat": 4,
 "nbformat_minor": 5
}
