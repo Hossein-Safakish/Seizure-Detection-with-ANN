{
 "cells": [
  {
   "cell_type": "markdown",
   "id": "d198e9cd",
   "metadata": {},
   "source": [
    "# Intro Of This Notebook"
   ]
  },
  {
   "cell_type": "markdown",
   "id": "d9e261fd",
   "metadata": {},
   "source": [
    "Epilepsy is a severe neurological disorder that manifests as a prevalent global health issue. It results from abnormal electrical discharges in the brain, leading to clinical symptoms. Epileptic seizures, representing the most common positive indicators of brain disturbance, categorize epilepsy as a primary brain disorder. The leading causes of epilepsy include vascular factors, traumatic incidents, infections, brain abscesses, tumors, nutritional deficiencies, pyridoxine deficiency, and calcium metabolism disorders. To enhance our understanding of the mechanisms causing epileptic disorders, ongoing research is essential. The diagnosis of epilepsy relies significantly on the electroencephalogram (EEG), a critical tool for accurately classifying different forms of epilepsy and facilitating the evaluation and treatment of neurophysiological disorders."
   ]
  },
  {
   "cell_type": "markdown",
   "id": "c4ed6734",
   "metadata": {},
   "source": [
    "## Method Selection"
   ]
  },
  {
   "cell_type": "markdown",
   "id": "c7d2feb7",
   "metadata": {},
   "source": [
    "Towards the end, due to the rapid response, I came to the realization that employing SVM and PCA is more advantageous for swift detection. However, for heightened accuracy and prediction scenarios, CNN and DNN prove to be more effective. Consequently, my decision is to utilize  **CNN** for this specific dataset."
   ]
  },
  {
   "cell_type": "markdown",
   "id": "591dc658",
   "metadata": {},
   "source": [
    "## About Dataset"
   ]
  },
  {
   "cell_type": "markdown",
   "id": "07c305d2",
   "metadata": {},
   "source": [
    "This dataset is a pre-processed and re-structured/reshaped version of a very commonly used dataset featuring epileptic seizure detection."
   ]
  },
  {
   "cell_type": "markdown",
   "id": "7329d774",
   "metadata": {},
   "source": [
    "## Attribute Information"
   ]
  },
  {
   "cell_type": "markdown",
   "id": "f28dd649",
   "metadata": {},
   "source": [
    "The original dataset, as referenced, comprises 5 folders, each containing 100 files, with each file representing the brain activity recording of a single subject. These recordings span 23.6 seconds and are sampled into 4097 data points. Consequently, there are a total of 500 individuals, each contributing 4097 data points for a duration of 23.5 seconds.\n",
    "\n",
    "To enhance the dataset's organization, we partitioned and shuffled every 4097 data points into 23 chunks. Each chunk consists of 178 data points, representing a 1-second interval. Therefore, the dataset now comprises 11,500 entries (rows), each containing 178 data points for 1 second (columns). The final column denotes the label \"y\" with values {1, 2, 3, 4, 5}.\n",
    "\n",
    "In summary, the response variable \"y\" is found in column 179, while the explanatory variables X1, X2, …, X178 provide the EEG recording values at different time points."
   ]
  },
  {
   "cell_type": "markdown",
   "id": "37bc673e",
   "metadata": {},
   "source": [
    "## y Definition"
   ]
  },
  {
   "cell_type": "markdown",
   "id": "32b36a91",
   "metadata": {},
   "source": [
    "The variable \"y\" denotes the category of the 178-dimensional input vector and specifically takes values in {1, 2, 3, 4, 5}, each corresponding to different conditions:\n",
    "\n",
    "- 5: Eyes open, indicating the EEG signal recording when the patient had their eyes open.\n",
    "- 4: Eyes closed, representing the EEG signal recording when the patient had their eyes closed.\n",
    "- 3: Identification of the tumor region in the brain, recording EEG activity from the healthy brain area.\n",
    "- 2: EEG recorded from the area where the tumor was located.\n",
    "- 1: Recording of seizure activity.\n",
    "\n",
    "Subjects falling into classes 2, 3, 4, and 5 are those without epileptic seizures, while subjects in class 1 experience epileptic seizures. Despite the existence of five classes, many authors have simplified the classification task to binary, focusing on class 1 (Epileptic seizure) versus the rest. The motivation behind creating this dataset version in a .csv format is to streamline data access."
   ]
  },
  {
   "cell_type": "markdown",
   "id": "f8396c8e",
   "metadata": {},
   "source": [
    "## Reference"
   ]
  },
  {
   "cell_type": "markdown",
   "id": "c613fe6f",
   "metadata": {},
   "source": [
    "This Dataset collect from UCI Machine Learning Repository (from the University of Bonn)."
   ]
  },
  {
   "cell_type": "markdown",
   "id": "d485b12a",
   "metadata": {},
   "source": [
    "## Import Libraries"
   ]
  },
  {
   "cell_type": "code",
   "execution_count": 1,
   "id": "207c4039",
   "metadata": {},
   "outputs": [
    {
     "name": "stdout",
     "output_type": "stream",
     "text": [
      "WARNING:tensorflow:From C:\\Users\\hosei\\anaconda3\\envs\\tensorjoon\\lib\\site-packages\\keras\\src\\losses.py:2976: The name tf.losses.sparse_softmax_cross_entropy is deprecated. Please use tf.compat.v1.losses.sparse_softmax_cross_entropy instead.\n",
      "\n"
     ]
    }
   ],
   "source": [
    "import numpy as np\n",
    "import tensorflow as tf\n",
    "import pandas as pd\n",
    "from sklearn.model_selection import train_test_split\n",
    "from sklearn.metrics import confusion_matrix, classification_report, accuracy_score\n",
    "from sklearn.preprocessing import StandardScaler\n",
    "from keras.models import Sequential\n",
    "from keras.layers import Conv1D, MaxPooling1D, Flatten, Dense, Dropout\n",
    "import matplotlib.pyplot as plt"
   ]
  },
  {
   "cell_type": "markdown",
   "id": "1bd9df71",
   "metadata": {},
   "source": [
    "## Load the data"
   ]
  },
  {
   "cell_type": "code",
   "execution_count": 2,
   "id": "3aff41dd",
   "metadata": {},
   "outputs": [],
   "source": [
    "data = pd.read_csv('Epileptic Seizure Recognition.csv')"
   ]
  },
  {
   "cell_type": "markdown",
   "id": "311a73c8",
   "metadata": {},
   "source": [
    "## Show the dataset"
   ]
  },
  {
   "cell_type": "code",
   "execution_count": 3,
   "id": "ca76f929",
   "metadata": {},
   "outputs": [
    {
     "data": {
      "text/html": [
       "<div>\n",
       "<style scoped>\n",
       "    .dataframe tbody tr th:only-of-type {\n",
       "        vertical-align: middle;\n",
       "    }\n",
       "\n",
       "    .dataframe tbody tr th {\n",
       "        vertical-align: top;\n",
       "    }\n",
       "\n",
       "    .dataframe thead th {\n",
       "        text-align: right;\n",
       "    }\n",
       "</style>\n",
       "<table border=\"1\" class=\"dataframe\">\n",
       "  <thead>\n",
       "    <tr style=\"text-align: right;\">\n",
       "      <th></th>\n",
       "      <th>Unnamed</th>\n",
       "      <th>X1</th>\n",
       "      <th>X2</th>\n",
       "      <th>X3</th>\n",
       "      <th>X4</th>\n",
       "      <th>X5</th>\n",
       "      <th>X6</th>\n",
       "      <th>X7</th>\n",
       "      <th>X8</th>\n",
       "      <th>X9</th>\n",
       "      <th>...</th>\n",
       "      <th>X170</th>\n",
       "      <th>X171</th>\n",
       "      <th>X172</th>\n",
       "      <th>X173</th>\n",
       "      <th>X174</th>\n",
       "      <th>X175</th>\n",
       "      <th>X176</th>\n",
       "      <th>X177</th>\n",
       "      <th>X178</th>\n",
       "      <th>y</th>\n",
       "    </tr>\n",
       "  </thead>\n",
       "  <tbody>\n",
       "    <tr>\n",
       "      <th>0</th>\n",
       "      <td>X21.V1.791</td>\n",
       "      <td>135</td>\n",
       "      <td>190</td>\n",
       "      <td>229</td>\n",
       "      <td>223</td>\n",
       "      <td>192</td>\n",
       "      <td>125</td>\n",
       "      <td>55</td>\n",
       "      <td>-9</td>\n",
       "      <td>-33</td>\n",
       "      <td>...</td>\n",
       "      <td>-17</td>\n",
       "      <td>-15</td>\n",
       "      <td>-31</td>\n",
       "      <td>-77</td>\n",
       "      <td>-103</td>\n",
       "      <td>-127</td>\n",
       "      <td>-116</td>\n",
       "      <td>-83</td>\n",
       "      <td>-51</td>\n",
       "      <td>4</td>\n",
       "    </tr>\n",
       "    <tr>\n",
       "      <th>1</th>\n",
       "      <td>X15.V1.924</td>\n",
       "      <td>386</td>\n",
       "      <td>382</td>\n",
       "      <td>356</td>\n",
       "      <td>331</td>\n",
       "      <td>320</td>\n",
       "      <td>315</td>\n",
       "      <td>307</td>\n",
       "      <td>272</td>\n",
       "      <td>244</td>\n",
       "      <td>...</td>\n",
       "      <td>164</td>\n",
       "      <td>150</td>\n",
       "      <td>146</td>\n",
       "      <td>152</td>\n",
       "      <td>157</td>\n",
       "      <td>156</td>\n",
       "      <td>154</td>\n",
       "      <td>143</td>\n",
       "      <td>129</td>\n",
       "      <td>1</td>\n",
       "    </tr>\n",
       "    <tr>\n",
       "      <th>2</th>\n",
       "      <td>X8.V1.1</td>\n",
       "      <td>-32</td>\n",
       "      <td>-39</td>\n",
       "      <td>-47</td>\n",
       "      <td>-37</td>\n",
       "      <td>-32</td>\n",
       "      <td>-36</td>\n",
       "      <td>-57</td>\n",
       "      <td>-73</td>\n",
       "      <td>-85</td>\n",
       "      <td>...</td>\n",
       "      <td>57</td>\n",
       "      <td>64</td>\n",
       "      <td>48</td>\n",
       "      <td>19</td>\n",
       "      <td>-12</td>\n",
       "      <td>-30</td>\n",
       "      <td>-35</td>\n",
       "      <td>-35</td>\n",
       "      <td>-36</td>\n",
       "      <td>5</td>\n",
       "    </tr>\n",
       "    <tr>\n",
       "      <th>3</th>\n",
       "      <td>X16.V1.60</td>\n",
       "      <td>-105</td>\n",
       "      <td>-101</td>\n",
       "      <td>-96</td>\n",
       "      <td>-92</td>\n",
       "      <td>-89</td>\n",
       "      <td>-95</td>\n",
       "      <td>-102</td>\n",
       "      <td>-100</td>\n",
       "      <td>-87</td>\n",
       "      <td>...</td>\n",
       "      <td>-82</td>\n",
       "      <td>-81</td>\n",
       "      <td>-80</td>\n",
       "      <td>-77</td>\n",
       "      <td>-85</td>\n",
       "      <td>-77</td>\n",
       "      <td>-72</td>\n",
       "      <td>-69</td>\n",
       "      <td>-65</td>\n",
       "      <td>5</td>\n",
       "    </tr>\n",
       "    <tr>\n",
       "      <th>4</th>\n",
       "      <td>X20.V1.54</td>\n",
       "      <td>-9</td>\n",
       "      <td>-65</td>\n",
       "      <td>-98</td>\n",
       "      <td>-102</td>\n",
       "      <td>-78</td>\n",
       "      <td>-48</td>\n",
       "      <td>-16</td>\n",
       "      <td>0</td>\n",
       "      <td>-21</td>\n",
       "      <td>...</td>\n",
       "      <td>4</td>\n",
       "      <td>2</td>\n",
       "      <td>-12</td>\n",
       "      <td>-32</td>\n",
       "      <td>-41</td>\n",
       "      <td>-65</td>\n",
       "      <td>-83</td>\n",
       "      <td>-89</td>\n",
       "      <td>-73</td>\n",
       "      <td>5</td>\n",
       "    </tr>\n",
       "  </tbody>\n",
       "</table>\n",
       "<p>5 rows × 180 columns</p>\n",
       "</div>"
      ],
      "text/plain": [
       "      Unnamed   X1   X2   X3   X4   X5   X6   X7   X8   X9  ...  X170  X171  \\\n",
       "0  X21.V1.791  135  190  229  223  192  125   55   -9  -33  ...   -17   -15   \n",
       "1  X15.V1.924  386  382  356  331  320  315  307  272  244  ...   164   150   \n",
       "2     X8.V1.1  -32  -39  -47  -37  -32  -36  -57  -73  -85  ...    57    64   \n",
       "3   X16.V1.60 -105 -101  -96  -92  -89  -95 -102 -100  -87  ...   -82   -81   \n",
       "4   X20.V1.54   -9  -65  -98 -102  -78  -48  -16    0  -21  ...     4     2   \n",
       "\n",
       "   X172  X173  X174  X175  X176  X177  X178  y  \n",
       "0   -31   -77  -103  -127  -116   -83   -51  4  \n",
       "1   146   152   157   156   154   143   129  1  \n",
       "2    48    19   -12   -30   -35   -35   -36  5  \n",
       "3   -80   -77   -85   -77   -72   -69   -65  5  \n",
       "4   -12   -32   -41   -65   -83   -89   -73  5  \n",
       "\n",
       "[5 rows x 180 columns]"
      ]
     },
     "execution_count": 3,
     "metadata": {},
     "output_type": "execute_result"
    }
   ],
   "source": [
    "data.head()"
   ]
  },
  {
   "cell_type": "markdown",
   "id": "f120b116",
   "metadata": {},
   "source": [
    "## Preprocess the data"
   ]
  },
  {
   "cell_type": "code",
   "execution_count": 4,
   "id": "8635eacb",
   "metadata": {},
   "outputs": [],
   "source": [
    "X = data.iloc[:, 1:-1].values\n",
    "y = data.iloc[:, -1:].values\n",
    "y[y > 1] = 0  # Convert multi-class to binary"
   ]
  },
  {
   "cell_type": "markdown",
   "id": "e36fd7d3",
   "metadata": {},
   "source": [
    "## Split the data into training and testing sets"
   ]
  },
  {
   "cell_type": "code",
   "execution_count": 5,
   "id": "a49f5138",
   "metadata": {},
   "outputs": [],
   "source": [
    "X_train, X_test, y_train, y_test = train_test_split(X, y, test_size=0.25, shuffle=True, random_state=42)"
   ]
  },
  {
   "cell_type": "markdown",
   "id": "4e2d887c",
   "metadata": {},
   "source": [
    "## Standardize the data"
   ]
  },
  {
   "cell_type": "code",
   "execution_count": 6,
   "id": "fc1f66c5",
   "metadata": {},
   "outputs": [],
   "source": [
    "scaler = StandardScaler()\n",
    "X_train_scaled = scaler.fit_transform(X_train)\n",
    "X_test_scaled = scaler.transform(X_test)"
   ]
  },
  {
   "cell_type": "markdown",
   "id": "85a4174f",
   "metadata": {},
   "source": [
    "## Reshape the data for CNN"
   ]
  },
  {
   "cell_type": "code",
   "execution_count": 7,
   "id": "fd637f0b",
   "metadata": {},
   "outputs": [],
   "source": [
    "X_train_reshaped = X_train_scaled.reshape(X_train_scaled.shape[0], X_train_scaled.shape[1], 1)\n",
    "X_test_reshaped = X_test_scaled.reshape(X_test_scaled.shape[0], X_test_scaled.shape[1], 1)"
   ]
  },
  {
   "cell_type": "markdown",
   "id": "beae4506",
   "metadata": {},
   "source": [
    "## Build the CNN model"
   ]
  },
  {
   "cell_type": "code",
   "execution_count": 8,
   "id": "a90dffe2",
   "metadata": {},
   "outputs": [
    {
     "name": "stdout",
     "output_type": "stream",
     "text": [
      "WARNING:tensorflow:From C:\\Users\\hosei\\anaconda3\\envs\\tensorjoon\\lib\\site-packages\\keras\\src\\backend.py:873: The name tf.get_default_graph is deprecated. Please use tf.compat.v1.get_default_graph instead.\n",
      "\n",
      "WARNING:tensorflow:From C:\\Users\\hosei\\anaconda3\\envs\\tensorjoon\\lib\\site-packages\\keras\\src\\backend.py:6642: The name tf.nn.max_pool is deprecated. Please use tf.nn.max_pool2d instead.\n",
      "\n"
     ]
    }
   ],
   "source": [
    "model = Sequential()\n",
    "model.add(Conv1D(filters=64, kernel_size=3, activation='relu', input_shape=(X_train_reshaped.shape[1], 1)))\n",
    "model.add(MaxPooling1D(pool_size=2))\n",
    "model.add(Conv1D(filters=128, kernel_size=3, activation='relu'))\n",
    "model.add(MaxPooling1D(pool_size=2))\n",
    "model.add(Flatten())\n",
    "model.add(Dense(128, activation='relu'))\n",
    "model.add(Dropout(0.5))\n",
    "model.add(Dense(1, activation='sigmoid'))"
   ]
  },
  {
   "cell_type": "markdown",
   "id": "ee5daff2",
   "metadata": {},
   "source": [
    "## Compile the model"
   ]
  },
  {
   "cell_type": "code",
   "execution_count": 9,
   "id": "1047fdc0",
   "metadata": {},
   "outputs": [
    {
     "name": "stdout",
     "output_type": "stream",
     "text": [
      "WARNING:tensorflow:From C:\\Users\\hosei\\anaconda3\\envs\\tensorjoon\\lib\\site-packages\\keras\\src\\optimizers\\__init__.py:309: The name tf.train.Optimizer is deprecated. Please use tf.compat.v1.train.Optimizer instead.\n",
      "\n"
     ]
    }
   ],
   "source": [
    "model.compile(loss='binary_crossentropy', optimizer='adam', metrics=['accuracy'])"
   ]
  },
  {
   "cell_type": "markdown",
   "id": "31bc56aa",
   "metadata": {},
   "source": [
    "## Train the model"
   ]
  },
  {
   "cell_type": "code",
   "execution_count": 10,
   "id": "3d3a9ae4",
   "metadata": {
    "scrolled": true
   },
   "outputs": [
    {
     "name": "stdout",
     "output_type": "stream",
     "text": [
      "Epoch 1/150\n",
      "WARNING:tensorflow:From C:\\Users\\hosei\\anaconda3\\envs\\tensorjoon\\lib\\site-packages\\keras\\src\\utils\\tf_utils.py:492: The name tf.ragged.RaggedTensorValue is deprecated. Please use tf.compat.v1.ragged.RaggedTensorValue instead.\n",
      "\n",
      "WARNING:tensorflow:From C:\\Users\\hosei\\anaconda3\\envs\\tensorjoon\\lib\\site-packages\\keras\\src\\engine\\base_layer_utils.py:384: The name tf.executing_eagerly_outside_functions is deprecated. Please use tf.compat.v1.executing_eagerly_outside_functions instead.\n",
      "\n",
      "54/54 [==============================] - 3s 25ms/step - loss: 0.3038 - accuracy: 0.8891 - val_loss: 0.1241 - val_accuracy: 0.9501\n",
      "Epoch 2/150\n",
      "54/54 [==============================] - 1s 19ms/step - loss: 0.1136 - accuracy: 0.9541 - val_loss: 0.1042 - val_accuracy: 0.9530\n",
      "Epoch 3/150\n",
      "54/54 [==============================] - 1s 20ms/step - loss: 0.0973 - accuracy: 0.9590 - val_loss: 0.0998 - val_accuracy: 0.9554\n",
      "Epoch 4/150\n",
      "54/54 [==============================] - 1s 20ms/step - loss: 0.0931 - accuracy: 0.9587 - val_loss: 0.1121 - val_accuracy: 0.9548\n",
      "Epoch 5/150\n",
      "54/54 [==============================] - 1s 18ms/step - loss: 0.0849 - accuracy: 0.9619 - val_loss: 0.0951 - val_accuracy: 0.9594\n",
      "Epoch 6/150\n",
      "54/54 [==============================] - 1s 20ms/step - loss: 0.0782 - accuracy: 0.9665 - val_loss: 0.0917 - val_accuracy: 0.9629\n",
      "Epoch 7/150\n",
      "54/54 [==============================] - 1s 18ms/step - loss: 0.0720 - accuracy: 0.9723 - val_loss: 0.0897 - val_accuracy: 0.9664\n",
      "Epoch 8/150\n",
      "54/54 [==============================] - 1s 19ms/step - loss: 0.0657 - accuracy: 0.9742 - val_loss: 0.0933 - val_accuracy: 0.9652\n",
      "Epoch 9/150\n",
      "54/54 [==============================] - 1s 20ms/step - loss: 0.0594 - accuracy: 0.9765 - val_loss: 0.1133 - val_accuracy: 0.9617\n",
      "Epoch 10/150\n",
      "54/54 [==============================] - 1s 19ms/step - loss: 0.0519 - accuracy: 0.9791 - val_loss: 0.0837 - val_accuracy: 0.9733\n",
      "Epoch 11/150\n",
      "54/54 [==============================] - 1s 20ms/step - loss: 0.0481 - accuracy: 0.9806 - val_loss: 0.1108 - val_accuracy: 0.9658\n",
      "Epoch 12/150\n",
      "54/54 [==============================] - 1s 19ms/step - loss: 0.0425 - accuracy: 0.9833 - val_loss: 0.0809 - val_accuracy: 0.9745\n",
      "Epoch 13/150\n",
      "54/54 [==============================] - 1s 20ms/step - loss: 0.0359 - accuracy: 0.9874 - val_loss: 0.0844 - val_accuracy: 0.9768\n",
      "Epoch 14/150\n",
      "54/54 [==============================] - 1s 19ms/step - loss: 0.0369 - accuracy: 0.9874 - val_loss: 0.0918 - val_accuracy: 0.9716\n",
      "Epoch 15/150\n",
      "54/54 [==============================] - 1s 20ms/step - loss: 0.0307 - accuracy: 0.9904 - val_loss: 0.0800 - val_accuracy: 0.9774\n",
      "Epoch 16/150\n",
      "54/54 [==============================] - 1s 19ms/step - loss: 0.0309 - accuracy: 0.9886 - val_loss: 0.0917 - val_accuracy: 0.9728\n",
      "Epoch 17/150\n",
      "54/54 [==============================] - 1s 19ms/step - loss: 0.0276 - accuracy: 0.9914 - val_loss: 0.0818 - val_accuracy: 0.9780\n",
      "Epoch 18/150\n",
      "54/54 [==============================] - 1s 18ms/step - loss: 0.0243 - accuracy: 0.9923 - val_loss: 0.0917 - val_accuracy: 0.9745\n",
      "Epoch 19/150\n",
      "54/54 [==============================] - 1s 19ms/step - loss: 0.0213 - accuracy: 0.9919 - val_loss: 0.0975 - val_accuracy: 0.9733\n",
      "Epoch 20/150\n",
      "54/54 [==============================] - 1s 21ms/step - loss: 0.0185 - accuracy: 0.9935 - val_loss: 0.0863 - val_accuracy: 0.9791\n",
      "Epoch 21/150\n",
      "54/54 [==============================] - 1s 21ms/step - loss: 0.0160 - accuracy: 0.9951 - val_loss: 0.1070 - val_accuracy: 0.9751\n",
      "Epoch 22/150\n",
      "54/54 [==============================] - 1s 20ms/step - loss: 0.0182 - accuracy: 0.9938 - val_loss: 0.0991 - val_accuracy: 0.9739\n",
      "Epoch 23/150\n",
      "54/54 [==============================] - 1s 20ms/step - loss: 0.0161 - accuracy: 0.9954 - val_loss: 0.0785 - val_accuracy: 0.9797\n",
      "Epoch 24/150\n",
      "54/54 [==============================] - 1s 20ms/step - loss: 0.0127 - accuracy: 0.9958 - val_loss: 0.1040 - val_accuracy: 0.9751\n",
      "Epoch 25/150\n",
      "54/54 [==============================] - 1s 20ms/step - loss: 0.0147 - accuracy: 0.9939 - val_loss: 0.0986 - val_accuracy: 0.9774\n",
      "Epoch 26/150\n",
      "54/54 [==============================] - 1s 21ms/step - loss: 0.0129 - accuracy: 0.9959 - val_loss: 0.0993 - val_accuracy: 0.9786\n",
      "Epoch 27/150\n",
      "54/54 [==============================] - 1s 18ms/step - loss: 0.0120 - accuracy: 0.9962 - val_loss: 0.0968 - val_accuracy: 0.9820\n",
      "Epoch 28/150\n",
      "54/54 [==============================] - 1s 20ms/step - loss: 0.0091 - accuracy: 0.9972 - val_loss: 0.1315 - val_accuracy: 0.9751\n",
      "Epoch 29/150\n",
      "54/54 [==============================] - 1s 20ms/step - loss: 0.0094 - accuracy: 0.9975 - val_loss: 0.1153 - val_accuracy: 0.9762\n",
      "Epoch 30/150\n",
      "54/54 [==============================] - 1s 19ms/step - loss: 0.0088 - accuracy: 0.9970 - val_loss: 0.1210 - val_accuracy: 0.9757\n",
      "Epoch 31/150\n",
      "54/54 [==============================] - 1s 19ms/step - loss: 0.0096 - accuracy: 0.9968 - val_loss: 0.1308 - val_accuracy: 0.9733\n",
      "Epoch 32/150\n",
      "54/54 [==============================] - 1s 20ms/step - loss: 0.0141 - accuracy: 0.9954 - val_loss: 0.1178 - val_accuracy: 0.9745\n",
      "Epoch 33/150\n",
      "54/54 [==============================] - 1s 19ms/step - loss: 0.0103 - accuracy: 0.9967 - val_loss: 0.1120 - val_accuracy: 0.9791\n",
      "Epoch 34/150\n",
      "54/54 [==============================] - 1s 19ms/step - loss: 0.0084 - accuracy: 0.9970 - val_loss: 0.1023 - val_accuracy: 0.9768\n",
      "Epoch 35/150\n",
      "54/54 [==============================] - 1s 18ms/step - loss: 0.0088 - accuracy: 0.9967 - val_loss: 0.1291 - val_accuracy: 0.9733\n",
      "Epoch 36/150\n",
      "54/54 [==============================] - 1s 20ms/step - loss: 0.0057 - accuracy: 0.9981 - val_loss: 0.1133 - val_accuracy: 0.9791\n",
      "Epoch 37/150\n",
      "54/54 [==============================] - 1s 20ms/step - loss: 0.0063 - accuracy: 0.9975 - val_loss: 0.1315 - val_accuracy: 0.9774\n",
      "Epoch 38/150\n",
      "54/54 [==============================] - 1s 18ms/step - loss: 0.0059 - accuracy: 0.9980 - val_loss: 0.1521 - val_accuracy: 0.9780\n",
      "Epoch 39/150\n",
      "54/54 [==============================] - 1s 21ms/step - loss: 0.0075 - accuracy: 0.9974 - val_loss: 0.1310 - val_accuracy: 0.9774\n",
      "Epoch 40/150\n",
      "54/54 [==============================] - 1s 19ms/step - loss: 0.0061 - accuracy: 0.9983 - val_loss: 0.1374 - val_accuracy: 0.9768\n",
      "Epoch 41/150\n",
      "54/54 [==============================] - 1s 21ms/step - loss: 0.0039 - accuracy: 0.9990 - val_loss: 0.1252 - val_accuracy: 0.9786\n",
      "Epoch 42/150\n",
      "54/54 [==============================] - 1s 18ms/step - loss: 0.0067 - accuracy: 0.9978 - val_loss: 0.1196 - val_accuracy: 0.9797\n",
      "Epoch 43/150\n",
      "54/54 [==============================] - 1s 17ms/step - loss: 0.0054 - accuracy: 0.9981 - val_loss: 0.1191 - val_accuracy: 0.9809\n",
      "Epoch 44/150\n",
      "54/54 [==============================] - 1s 18ms/step - loss: 0.0055 - accuracy: 0.9980 - val_loss: 0.1307 - val_accuracy: 0.9768\n",
      "Epoch 45/150\n",
      "54/54 [==============================] - 1s 20ms/step - loss: 0.0041 - accuracy: 0.9986 - val_loss: 0.1343 - val_accuracy: 0.9791\n",
      "Epoch 46/150\n",
      "54/54 [==============================] - 1s 19ms/step - loss: 0.0046 - accuracy: 0.9984 - val_loss: 0.1491 - val_accuracy: 0.9780\n",
      "Epoch 47/150\n",
      "54/54 [==============================] - 1s 18ms/step - loss: 0.0048 - accuracy: 0.9981 - val_loss: 0.1426 - val_accuracy: 0.9774\n",
      "Epoch 48/150\n",
      "54/54 [==============================] - 1s 19ms/step - loss: 0.0051 - accuracy: 0.9980 - val_loss: 0.1270 - val_accuracy: 0.9826\n",
      "Epoch 49/150\n",
      "54/54 [==============================] - 1s 19ms/step - loss: 0.0050 - accuracy: 0.9984 - val_loss: 0.1764 - val_accuracy: 0.9745\n",
      "Epoch 50/150\n",
      "54/54 [==============================] - 1s 20ms/step - loss: 0.0049 - accuracy: 0.9981 - val_loss: 0.1448 - val_accuracy: 0.9791\n",
      "Epoch 51/150\n",
      "54/54 [==============================] - 1s 19ms/step - loss: 0.0056 - accuracy: 0.9983 - val_loss: 0.1619 - val_accuracy: 0.9745\n",
      "Epoch 52/150\n",
      "54/54 [==============================] - 1s 19ms/step - loss: 0.0047 - accuracy: 0.9981 - val_loss: 0.1365 - val_accuracy: 0.9809\n",
      "Epoch 53/150\n",
      "54/54 [==============================] - 1s 19ms/step - loss: 0.0155 - accuracy: 0.9949 - val_loss: 0.1226 - val_accuracy: 0.9809\n",
      "Epoch 54/150\n",
      "54/54 [==============================] - 1s 19ms/step - loss: 0.0067 - accuracy: 0.9981 - val_loss: 0.1380 - val_accuracy: 0.9809\n"
     ]
    },
    {
     "name": "stdout",
     "output_type": "stream",
     "text": [
      "Epoch 55/150\n",
      "54/54 [==============================] - 1s 20ms/step - loss: 0.0040 - accuracy: 0.9987 - val_loss: 0.1442 - val_accuracy: 0.9797\n",
      "Epoch 56/150\n",
      "54/54 [==============================] - 1s 19ms/step - loss: 0.0046 - accuracy: 0.9984 - val_loss: 0.1389 - val_accuracy: 0.9797\n",
      "Epoch 57/150\n",
      "54/54 [==============================] - 1s 19ms/step - loss: 0.0042 - accuracy: 0.9990 - val_loss: 0.1381 - val_accuracy: 0.9809\n",
      "Epoch 58/150\n",
      "54/54 [==============================] - 1s 19ms/step - loss: 0.0023 - accuracy: 0.9993 - val_loss: 0.1630 - val_accuracy: 0.9791\n",
      "Epoch 59/150\n",
      "54/54 [==============================] - 1s 19ms/step - loss: 0.0027 - accuracy: 0.9993 - val_loss: 0.1527 - val_accuracy: 0.9809\n",
      "Epoch 60/150\n",
      "54/54 [==============================] - 1s 19ms/step - loss: 0.0047 - accuracy: 0.9984 - val_loss: 0.1370 - val_accuracy: 0.9820\n",
      "Epoch 61/150\n",
      "54/54 [==============================] - 1s 20ms/step - loss: 0.0040 - accuracy: 0.9981 - val_loss: 0.1401 - val_accuracy: 0.9786\n",
      "Epoch 62/150\n",
      "54/54 [==============================] - 1s 18ms/step - loss: 0.0080 - accuracy: 0.9984 - val_loss: 0.1526 - val_accuracy: 0.9774\n",
      "Epoch 63/150\n",
      "54/54 [==============================] - 1s 18ms/step - loss: 0.0032 - accuracy: 0.9988 - val_loss: 0.1606 - val_accuracy: 0.9745\n",
      "Epoch 64/150\n",
      "54/54 [==============================] - 1s 19ms/step - loss: 0.0018 - accuracy: 0.9997 - val_loss: 0.1645 - val_accuracy: 0.9786\n",
      "Epoch 65/150\n",
      "54/54 [==============================] - 1s 19ms/step - loss: 0.0023 - accuracy: 0.9993 - val_loss: 0.1606 - val_accuracy: 0.9797\n",
      "Epoch 66/150\n",
      "54/54 [==============================] - 1s 19ms/step - loss: 0.0059 - accuracy: 0.9974 - val_loss: 0.1485 - val_accuracy: 0.9809\n",
      "Epoch 67/150\n",
      "54/54 [==============================] - 1s 19ms/step - loss: 0.0041 - accuracy: 0.9990 - val_loss: 0.1368 - val_accuracy: 0.9791\n",
      "Epoch 68/150\n",
      "54/54 [==============================] - 1s 20ms/step - loss: 0.0036 - accuracy: 0.9986 - val_loss: 0.1411 - val_accuracy: 0.9803\n",
      "Epoch 69/150\n",
      "54/54 [==============================] - 1s 19ms/step - loss: 0.0022 - accuracy: 0.9993 - val_loss: 0.1706 - val_accuracy: 0.9774\n",
      "Epoch 70/150\n",
      "54/54 [==============================] - 1s 18ms/step - loss: 0.0045 - accuracy: 0.9987 - val_loss: 0.1536 - val_accuracy: 0.9791\n",
      "Epoch 71/150\n",
      "54/54 [==============================] - 1s 18ms/step - loss: 0.0038 - accuracy: 0.9993 - val_loss: 0.1455 - val_accuracy: 0.9803\n",
      "Epoch 72/150\n",
      "54/54 [==============================] - 1s 20ms/step - loss: 0.0051 - accuracy: 0.9983 - val_loss: 0.1399 - val_accuracy: 0.9809\n",
      "Epoch 73/150\n",
      "54/54 [==============================] - 1s 18ms/step - loss: 0.0037 - accuracy: 0.9988 - val_loss: 0.1421 - val_accuracy: 0.9803\n",
      "Epoch 74/150\n",
      "54/54 [==============================] - 1s 18ms/step - loss: 0.0015 - accuracy: 0.9996 - val_loss: 0.1535 - val_accuracy: 0.9809\n",
      "Epoch 75/150\n",
      "54/54 [==============================] - 1s 19ms/step - loss: 0.0012 - accuracy: 0.9996 - val_loss: 0.1539 - val_accuracy: 0.9814\n",
      "Epoch 76/150\n",
      "54/54 [==============================] - 1s 19ms/step - loss: 0.0037 - accuracy: 0.9986 - val_loss: 0.1211 - val_accuracy: 0.9791\n",
      "Epoch 77/150\n",
      "54/54 [==============================] - 1s 20ms/step - loss: 0.0071 - accuracy: 0.9974 - val_loss: 0.1584 - val_accuracy: 0.9768\n",
      "Epoch 78/150\n",
      "54/54 [==============================] - 1s 19ms/step - loss: 0.0021 - accuracy: 0.9996 - val_loss: 0.1414 - val_accuracy: 0.9797\n",
      "Epoch 79/150\n",
      "54/54 [==============================] - 1s 19ms/step - loss: 0.0020 - accuracy: 0.9993 - val_loss: 0.1696 - val_accuracy: 0.9774\n",
      "Epoch 80/150\n",
      "54/54 [==============================] - 1s 21ms/step - loss: 0.0016 - accuracy: 0.9991 - val_loss: 0.1920 - val_accuracy: 0.9780\n",
      "Epoch 81/150\n",
      "54/54 [==============================] - 1s 20ms/step - loss: 0.0033 - accuracy: 0.9987 - val_loss: 0.1593 - val_accuracy: 0.9780\n",
      "Epoch 82/150\n",
      "54/54 [==============================] - 1s 19ms/step - loss: 0.0017 - accuracy: 0.9997 - val_loss: 0.1831 - val_accuracy: 0.9803\n",
      "Epoch 83/150\n",
      "54/54 [==============================] - 1s 19ms/step - loss: 9.4398e-04 - accuracy: 1.0000 - val_loss: 0.1884 - val_accuracy: 0.9786\n",
      "Epoch 84/150\n",
      "54/54 [==============================] - 1s 19ms/step - loss: 0.0020 - accuracy: 0.9993 - val_loss: 0.1901 - val_accuracy: 0.9797\n",
      "Epoch 85/150\n",
      "54/54 [==============================] - 1s 20ms/step - loss: 0.0011 - accuracy: 0.9997 - val_loss: 0.2001 - val_accuracy: 0.9762\n",
      "Epoch 86/150\n",
      "54/54 [==============================] - 1s 19ms/step - loss: 0.0021 - accuracy: 0.9991 - val_loss: 0.1936 - val_accuracy: 0.9780\n",
      "Epoch 87/150\n",
      "54/54 [==============================] - 1s 20ms/step - loss: 0.0025 - accuracy: 0.9991 - val_loss: 0.1650 - val_accuracy: 0.9786\n",
      "Epoch 88/150\n",
      "54/54 [==============================] - 1s 19ms/step - loss: 0.0067 - accuracy: 0.9977 - val_loss: 0.1663 - val_accuracy: 0.9786\n",
      "Epoch 89/150\n",
      "54/54 [==============================] - 1s 20ms/step - loss: 0.0061 - accuracy: 0.9984 - val_loss: 0.1327 - val_accuracy: 0.9809\n",
      "Epoch 90/150\n",
      "54/54 [==============================] - 1s 19ms/step - loss: 0.0035 - accuracy: 0.9988 - val_loss: 0.1541 - val_accuracy: 0.9786\n",
      "Epoch 91/150\n",
      "54/54 [==============================] - 1s 20ms/step - loss: 0.0028 - accuracy: 0.9990 - val_loss: 0.1359 - val_accuracy: 0.9797\n",
      "Epoch 92/150\n",
      "54/54 [==============================] - 1s 19ms/step - loss: 0.0020 - accuracy: 0.9997 - val_loss: 0.1477 - val_accuracy: 0.9803\n",
      "Epoch 93/150\n",
      "54/54 [==============================] - 1s 21ms/step - loss: 0.0052 - accuracy: 0.9988 - val_loss: 0.1900 - val_accuracy: 0.9762\n",
      "Epoch 94/150\n",
      "54/54 [==============================] - 1s 19ms/step - loss: 0.0021 - accuracy: 0.9994 - val_loss: 0.1499 - val_accuracy: 0.9803\n",
      "Epoch 95/150\n",
      "54/54 [==============================] - 1s 19ms/step - loss: 0.0014 - accuracy: 0.9997 - val_loss: 0.1599 - val_accuracy: 0.9809\n",
      "Epoch 96/150\n",
      "54/54 [==============================] - 1s 20ms/step - loss: 0.0018 - accuracy: 0.9994 - val_loss: 0.1516 - val_accuracy: 0.9820\n",
      "Epoch 97/150\n",
      "54/54 [==============================] - 1s 20ms/step - loss: 8.0524e-04 - accuracy: 0.9999 - val_loss: 0.1562 - val_accuracy: 0.9803\n",
      "Epoch 98/150\n",
      "54/54 [==============================] - 1s 20ms/step - loss: 7.1828e-04 - accuracy: 0.9997 - val_loss: 0.1784 - val_accuracy: 0.9786\n",
      "Epoch 99/150\n",
      "54/54 [==============================] - 1s 19ms/step - loss: 0.0034 - accuracy: 0.9983 - val_loss: 0.1693 - val_accuracy: 0.9768\n",
      "Epoch 100/150\n",
      "54/54 [==============================] - 1s 20ms/step - loss: 0.0025 - accuracy: 0.9991 - val_loss: 0.1683 - val_accuracy: 0.9803\n",
      "Epoch 101/150\n",
      "54/54 [==============================] - 1s 19ms/step - loss: 0.0022 - accuracy: 0.9993 - val_loss: 0.1652 - val_accuracy: 0.9809\n",
      "Epoch 102/150\n",
      "54/54 [==============================] - 1s 19ms/step - loss: 8.3033e-04 - accuracy: 0.9999 - val_loss: 0.1695 - val_accuracy: 0.9797\n",
      "Epoch 103/150\n",
      "54/54 [==============================] - 1s 19ms/step - loss: 0.0015 - accuracy: 0.9996 - val_loss: 0.1684 - val_accuracy: 0.9803\n",
      "Epoch 104/150\n",
      "54/54 [==============================] - 1s 18ms/step - loss: 0.0040 - accuracy: 0.9991 - val_loss: 0.1617 - val_accuracy: 0.9797\n",
      "Epoch 105/150\n",
      "54/54 [==============================] - 1s 20ms/step - loss: 0.0026 - accuracy: 0.9990 - val_loss: 0.1362 - val_accuracy: 0.9814\n",
      "Epoch 106/150\n",
      "54/54 [==============================] - 1s 20ms/step - loss: 0.0038 - accuracy: 0.9986 - val_loss: 0.1433 - val_accuracy: 0.9820\n",
      "Epoch 107/150\n",
      "54/54 [==============================] - 1s 21ms/step - loss: 0.0053 - accuracy: 0.9978 - val_loss: 0.1566 - val_accuracy: 0.9786\n",
      "Epoch 108/150\n",
      "54/54 [==============================] - 1s 20ms/step - loss: 0.0045 - accuracy: 0.9983 - val_loss: 0.1578 - val_accuracy: 0.9786\n",
      "Epoch 109/150\n",
      "54/54 [==============================] - 1s 19ms/step - loss: 0.0018 - accuracy: 0.9996 - val_loss: 0.1682 - val_accuracy: 0.9791\n",
      "Epoch 110/150\n",
      "54/54 [==============================] - 1s 20ms/step - loss: 0.0018 - accuracy: 0.9993 - val_loss: 0.1530 - val_accuracy: 0.9786\n",
      "Epoch 111/150\n",
      "54/54 [==============================] - 1s 19ms/step - loss: 0.0016 - accuracy: 0.9996 - val_loss: 0.2147 - val_accuracy: 0.9774\n",
      "Epoch 112/150\n"
     ]
    },
    {
     "name": "stdout",
     "output_type": "stream",
     "text": [
      "54/54 [==============================] - 1s 19ms/step - loss: 0.0019 - accuracy: 0.9994 - val_loss: 0.1847 - val_accuracy: 0.9780\n",
      "Epoch 113/150\n",
      "54/54 [==============================] - 1s 19ms/step - loss: 7.7737e-04 - accuracy: 0.9997 - val_loss: 0.2062 - val_accuracy: 0.9774\n",
      "Epoch 114/150\n",
      "54/54 [==============================] - 1s 20ms/step - loss: 0.0014 - accuracy: 0.9994 - val_loss: 0.1738 - val_accuracy: 0.9786\n",
      "Epoch 115/150\n",
      "54/54 [==============================] - 1s 20ms/step - loss: 0.0026 - accuracy: 0.9993 - val_loss: 0.1752 - val_accuracy: 0.9803\n",
      "Epoch 116/150\n",
      "54/54 [==============================] - 1s 19ms/step - loss: 0.0015 - accuracy: 0.9994 - val_loss: 0.1501 - val_accuracy: 0.9820\n",
      "Epoch 117/150\n",
      "54/54 [==============================] - 1s 19ms/step - loss: 0.0018 - accuracy: 0.9994 - val_loss: 0.1413 - val_accuracy: 0.9797\n",
      "Epoch 118/150\n",
      "54/54 [==============================] - 1s 19ms/step - loss: 0.0012 - accuracy: 0.9999 - val_loss: 0.1706 - val_accuracy: 0.9797\n",
      "Epoch 119/150\n",
      "54/54 [==============================] - 1s 19ms/step - loss: 0.0025 - accuracy: 0.9990 - val_loss: 0.1415 - val_accuracy: 0.9797\n",
      "Epoch 120/150\n",
      "54/54 [==============================] - 1s 19ms/step - loss: 9.4793e-04 - accuracy: 0.9996 - val_loss: 0.1712 - val_accuracy: 0.9809\n",
      "Epoch 121/150\n",
      "54/54 [==============================] - 1s 19ms/step - loss: 0.0019 - accuracy: 0.9994 - val_loss: 0.2361 - val_accuracy: 0.9762\n",
      "Epoch 122/150\n",
      "54/54 [==============================] - 1s 19ms/step - loss: 0.0027 - accuracy: 0.9988 - val_loss: 0.1712 - val_accuracy: 0.9809\n",
      "Epoch 123/150\n",
      "54/54 [==============================] - 1s 19ms/step - loss: 0.0014 - accuracy: 0.9996 - val_loss: 0.1717 - val_accuracy: 0.9797\n",
      "Epoch 124/150\n",
      "54/54 [==============================] - 1s 19ms/step - loss: 0.0015 - accuracy: 0.9994 - val_loss: 0.2217 - val_accuracy: 0.9803\n",
      "Epoch 125/150\n",
      "54/54 [==============================] - 1s 19ms/step - loss: 0.0028 - accuracy: 0.9993 - val_loss: 0.1606 - val_accuracy: 0.9791\n",
      "Epoch 126/150\n",
      "54/54 [==============================] - 1s 19ms/step - loss: 0.0028 - accuracy: 0.9993 - val_loss: 0.1472 - val_accuracy: 0.9797\n",
      "Epoch 127/150\n",
      "54/54 [==============================] - 1s 18ms/step - loss: 8.1170e-04 - accuracy: 0.9999 - val_loss: 0.1930 - val_accuracy: 0.9803\n",
      "Epoch 128/150\n",
      "54/54 [==============================] - 1s 19ms/step - loss: 8.1968e-04 - accuracy: 0.9997 - val_loss: 0.1846 - val_accuracy: 0.9809\n",
      "Epoch 129/150\n",
      "54/54 [==============================] - 1s 18ms/step - loss: 6.8881e-04 - accuracy: 0.9999 - val_loss: 0.1955 - val_accuracy: 0.9780\n",
      "Epoch 130/150\n",
      "54/54 [==============================] - 1s 19ms/step - loss: 3.8217e-04 - accuracy: 1.0000 - val_loss: 0.2153 - val_accuracy: 0.9768\n",
      "Epoch 131/150\n",
      "54/54 [==============================] - 1s 19ms/step - loss: 9.0847e-04 - accuracy: 0.9997 - val_loss: 0.2254 - val_accuracy: 0.9780\n",
      "Epoch 132/150\n",
      "54/54 [==============================] - 1s 19ms/step - loss: 0.0011 - accuracy: 0.9994 - val_loss: 0.1736 - val_accuracy: 0.9797\n",
      "Epoch 133/150\n",
      "54/54 [==============================] - 1s 20ms/step - loss: 0.0016 - accuracy: 0.9991 - val_loss: 0.1731 - val_accuracy: 0.9791\n",
      "Epoch 134/150\n",
      "54/54 [==============================] - 1s 19ms/step - loss: 0.0020 - accuracy: 0.9988 - val_loss: 0.1674 - val_accuracy: 0.9786\n",
      "Epoch 135/150\n",
      "54/54 [==============================] - 1s 19ms/step - loss: 0.0039 - accuracy: 0.9987 - val_loss: 0.1497 - val_accuracy: 0.9803\n",
      "Epoch 136/150\n",
      "54/54 [==============================] - 1s 19ms/step - loss: 0.0020 - accuracy: 0.9996 - val_loss: 0.1478 - val_accuracy: 0.9803\n",
      "Epoch 137/150\n",
      "54/54 [==============================] - 1s 20ms/step - loss: 0.0033 - accuracy: 0.9991 - val_loss: 0.2141 - val_accuracy: 0.9786\n",
      "Epoch 138/150\n",
      "54/54 [==============================] - 1s 19ms/step - loss: 0.0015 - accuracy: 0.9994 - val_loss: 0.1781 - val_accuracy: 0.9791\n",
      "Epoch 139/150\n",
      "54/54 [==============================] - 1s 21ms/step - loss: 0.0032 - accuracy: 0.9988 - val_loss: 0.2001 - val_accuracy: 0.9780\n",
      "Epoch 140/150\n",
      "54/54 [==============================] - 1s 19ms/step - loss: 0.0014 - accuracy: 0.9997 - val_loss: 0.1723 - val_accuracy: 0.9791\n",
      "Epoch 141/150\n",
      "54/54 [==============================] - 1s 19ms/step - loss: 0.0036 - accuracy: 0.9987 - val_loss: 0.2003 - val_accuracy: 0.9797\n",
      "Epoch 142/150\n",
      "54/54 [==============================] - 1s 19ms/step - loss: 0.0056 - accuracy: 0.9978 - val_loss: 0.1796 - val_accuracy: 0.9786\n",
      "Epoch 143/150\n",
      "54/54 [==============================] - 1s 19ms/step - loss: 0.0057 - accuracy: 0.9978 - val_loss: 0.1694 - val_accuracy: 0.9820\n",
      "Epoch 144/150\n",
      "54/54 [==============================] - 1s 18ms/step - loss: 0.0026 - accuracy: 0.9990 - val_loss: 0.1879 - val_accuracy: 0.9814\n",
      "Epoch 145/150\n",
      "54/54 [==============================] - 1s 18ms/step - loss: 8.0429e-04 - accuracy: 0.9997 - val_loss: 0.2012 - val_accuracy: 0.9814\n",
      "Epoch 146/150\n",
      "54/54 [==============================] - 1s 20ms/step - loss: 2.9840e-04 - accuracy: 1.0000 - val_loss: 0.2046 - val_accuracy: 0.9820\n",
      "Epoch 147/150\n",
      "54/54 [==============================] - 1s 20ms/step - loss: 5.3620e-04 - accuracy: 0.9999 - val_loss: 0.1924 - val_accuracy: 0.9826\n",
      "Epoch 148/150\n",
      "54/54 [==============================] - 1s 20ms/step - loss: 0.0015 - accuracy: 0.9996 - val_loss: 0.2075 - val_accuracy: 0.9809\n",
      "Epoch 149/150\n",
      "54/54 [==============================] - 1s 19ms/step - loss: 8.5179e-04 - accuracy: 0.9997 - val_loss: 0.2034 - val_accuracy: 0.9832\n",
      "Epoch 150/150\n",
      "54/54 [==============================] - 1s 19ms/step - loss: 0.0016 - accuracy: 0.9994 - val_loss: 0.2012 - val_accuracy: 0.9797\n"
     ]
    }
   ],
   "source": [
    "history = model.fit(X_train_reshaped, y_train, epochs=150, batch_size=128, validation_split=0.2)"
   ]
  },
  {
   "cell_type": "markdown",
   "id": "10913829",
   "metadata": {},
   "source": [
    "## Evaluate the model"
   ]
  },
  {
   "cell_type": "code",
   "execution_count": 11,
   "id": "aa673c21",
   "metadata": {},
   "outputs": [
    {
     "name": "stdout",
     "output_type": "stream",
     "text": [
      "90/90 [==============================] - 0s 2ms/step\n"
     ]
    }
   ],
   "source": [
    "y_pred = model.predict(X_test_reshaped)\n",
    "y_pred_binary = (y_pred > 0.5).astype(int)"
   ]
  },
  {
   "cell_type": "markdown",
   "id": "72954820",
   "metadata": {},
   "source": [
    "## Calculate and print the confusion matrix"
   ]
  },
  {
   "cell_type": "code",
   "execution_count": 12,
   "id": "dae59298",
   "metadata": {},
   "outputs": [
    {
     "name": "stdout",
     "output_type": "stream",
     "text": [
      "Confusion Matrix:\n",
      "[[2267   18]\n",
      " [  37  553]]\n"
     ]
    }
   ],
   "source": [
    "conf_matrix = confusion_matrix(y_test, y_pred_binary)\n",
    "print(\"Confusion Matrix:\")\n",
    "print(conf_matrix)"
   ]
  },
  {
   "cell_type": "markdown",
   "id": "b2aa0be0",
   "metadata": {},
   "source": [
    "## Calculate and print classification report"
   ]
  },
  {
   "cell_type": "code",
   "execution_count": 13,
   "id": "3a406fb3",
   "metadata": {},
   "outputs": [
    {
     "name": "stdout",
     "output_type": "stream",
     "text": [
      "Classification Report:\n",
      "              precision    recall  f1-score   support\n",
      "\n",
      "           0       0.98      0.99      0.99      2285\n",
      "           1       0.97      0.94      0.95       590\n",
      "\n",
      "    accuracy                           0.98      2875\n",
      "   macro avg       0.98      0.96      0.97      2875\n",
      "weighted avg       0.98      0.98      0.98      2875\n",
      "\n"
     ]
    }
   ],
   "source": [
    "class_report = classification_report(y_test, y_pred_binary)\n",
    "print(\"Classification Report:\")\n",
    "print(class_report)"
   ]
  },
  {
   "cell_type": "markdown",
   "id": "a08afd60",
   "metadata": {},
   "source": [
    "## Calculate and print accuracy"
   ]
  },
  {
   "cell_type": "code",
   "execution_count": 14,
   "id": "e8a75092",
   "metadata": {},
   "outputs": [
    {
     "name": "stdout",
     "output_type": "stream",
     "text": [
      "Accuracy: 0.9808695652173913\n"
     ]
    }
   ],
   "source": [
    "accuracy = accuracy_score(y_test, y_pred_binary)\n",
    "print(\"Accuracy:\", accuracy)"
   ]
  },
  {
   "cell_type": "markdown",
   "id": "bc567a1a",
   "metadata": {},
   "source": [
    "## Plot training history"
   ]
  },
  {
   "cell_type": "code",
   "execution_count": 15,
   "id": "888f391d",
   "metadata": {
    "scrolled": false
   },
   "outputs": [
    {
     "data": {
      "image/png": "[encoded data removed]",
      "text/plain": [
       "<Figure size 640x480 with 1 Axes>"
      ]
     },
     "metadata": {},
     "output_type": "display_data"
    }
   ],
   "source": [
    "plt.plot(history.history['accuracy'], label='Train Accuracy')\n",
    "plt.plot(history.history['val_accuracy'], label='Validation Accuracy')\n",
    "plt.title('Training and Validation Accuracy')\n",
    "plt.xlabel('Epochs')\n",
    "plt.ylabel('Accuracy')\n",
    "plt.legend()\n",
    "plt.show()"
   ]
  }
 ],
 "metadata": {
  "kernelspec": {
   "display_name": "tensorjoon",
   "language": "python",
   "name": "tensorjoon"
  },
  "language_info": {
   "codemirror_mode": {
    "name": "ipython",
    "version": 3
   },
   "file_extension": ".py",
   "mimetype": "text/x-python",
   "name": "python",
   "nbconvert_exporter": "python",
   "pygments_lexer": "ipython3",
   "version": "3.9.18"
  }
 },
 "nbformat": 4,
 "nbformat_minor": 5
}
