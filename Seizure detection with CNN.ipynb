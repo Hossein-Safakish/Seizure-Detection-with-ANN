{
 "cells": [
  {
   "cell_type": "markdown",
   "id": "d198e9cd",
   "metadata": {},
   "source": [
    "# Intro Of This Notebook"
   ]
  },
  {
   "cell_type": "markdown",
   "id": "d9e261fd",
   "metadata": {},
   "source": [
    "Epilepsy is a severe neurological disorder that manifests as a prevalent global health issue. It results from abnormal electrical discharges in the brain, leading to clinical symptoms. Epileptic seizures, representing the most common positive indicators of brain disturbance, categorize epilepsy as a primary brain disorder. The leading causes of epilepsy include vascular factors, traumatic incidents, infections, brain abscesses, tumors, nutritional deficiencies, pyridoxine deficiency, and calcium metabolism disorders. To enhance our understanding of the mechanisms causing epileptic disorders, ongoing research is essential. The diagnosis of epilepsy relies significantly on the electroencephalogram (EEG), a critical tool for accurately classifying different forms of epilepsy and facilitating the evaluation and treatment of neurophysiological disorders."
   ]
  },
  {
   "cell_type": "markdown",
   "id": "c4ed6734",
   "metadata": {},
   "source": [
    "## Method Selection"
   ]
  },
  {
   "cell_type": "markdown",
   "id": "c7d2feb7",
   "metadata": {},
   "source": [
    "Towards the end, due to the rapid response, I came to the realization that employing SVM and PCA is more advantageous for swift detection. However, for heightened accuracy and prediction scenarios, CNN and DNN prove to be more effective. Consequently, my decision is to utilize  **CNN** for this specific dataset."
   ]
  },
  {
   "cell_type": "markdown",
   "id": "591dc658",
   "metadata": {},
   "source": [
    "## About Dataset"
   ]
  },
  {
   "cell_type": "markdown",
   "id": "07c305d2",
   "metadata": {},
   "source": [
    "This dataset has undergone preprocessing and restructuring, resulting in a modified version of a widely utilized dataset focused on the detection of epileptic seizures."
   ]
  },
  {
   "cell_type": "markdown",
   "id": "7329d774",
   "metadata": {},
   "source": [
    "## Attribute Information"
   ]
  },
  {
   "cell_type": "markdown",
   "id": "f28dd649",
   "metadata": {},
   "source": [
    "The original dataset, as referenced, comprises 5 folders, each containing 100 files, with each file representing the brain activity recording of a single subject. These recordings span 23.6 seconds and are sampled into 4097 data points. Consequently, there are a total of 500 individuals, each contributing 4097 data points for a duration of 23.5 seconds.\n",
    "\n",
    "To enhance the dataset's organization, we partitioned and shuffled every 4097 data points into 23 chunks. Each chunk consists of 178 data points, representing a 1-second interval. Therefore, the dataset now comprises 11,500 entries (rows), each containing 178 data points for 1 second (columns). The final column denotes the label \"y\" with values {1, 2, 3, 4, 5}.\n",
    "\n",
    "In summary, the response variable \"y\" is found in column 179, while the explanatory variables X1, X2, …, X178 provide the EEG recording values at different time points."
   ]
  },
  {
   "cell_type": "markdown",
   "id": "37bc673e",
   "metadata": {},
   "source": [
    "## y Definition"
   ]
  },
  {
   "cell_type": "markdown",
   "id": "32b36a91",
   "metadata": {},
   "source": [
    "The variable \"y\" denotes the category of the 178-dimensional input vector and specifically takes values in {1, 2, 3, 4, 5}, each corresponding to different conditions:\n",
    "\n",
    "- 5: Eyes open, indicating the EEG signal recording when the patient had their eyes open.\n",
    "- 4: Eyes closed, representing the EEG signal recording when the patient had their eyes closed.\n",
    "- 3: Identification of the tumor region in the brain, recording EEG activity from the healthy brain area.\n",
    "- 2: EEG recorded from the area where the tumor was located.\n",
    "- 1: Recording of seizure activity.\n",
    "\n",
    "Subjects falling into classes 2, 3, 4, and 5 are those without epileptic seizures, while subjects in class 1 experience epileptic seizures. Despite the existence of five classes, many authors have simplified the classification task to binary, focusing on class 1 (Epileptic seizure) versus the rest. The motivation behind creating this dataset version in a .csv format is to streamline data access."
   ]
  },
  {
   "cell_type": "markdown",
   "id": "f8396c8e",
   "metadata": {},
   "source": [
    "## Reference"
   ]
  },
  {
   "cell_type": "markdown",
   "id": "c613fe6f",
   "metadata": {},
   "source": [
    "This Dataset collect from UCI Machine Learning Repository (from the University of Bonn)."
   ]
  },
  {
   "cell_type": "markdown",
   "id": "d485b12a",
   "metadata": {},
   "source": [
    "## Import Libraries"
   ]
  },
  {
   "cell_type": "code",
   "execution_count": 1,
   "id": "207c4039",
   "metadata": {},
   "outputs": [
    {
     "name": "stdout",
     "output_type": "stream",
     "text": [
      "WARNING:tensorflow:From C:\\Users\\hosei\\anaconda3\\envs\\tensorjoon\\lib\\site-packages\\keras\\src\\losses.py:2976: The name tf.losses.sparse_softmax_cross_entropy is deprecated. Please use tf.compat.v1.losses.sparse_softmax_cross_entropy instead.\n",
      "\n"
     ]
    }
   ],
   "source": [
    "import numpy as np\n",
    "import tensorflow as tf\n",
    "import pandas as pd\n",
    "from sklearn.model_selection import train_test_split\n",
    "from sklearn.metrics import confusion_matrix, classification_report, accuracy_score\n",
    "from sklearn.preprocessing import StandardScaler\n",
    "from keras.models import Sequential\n",
    "from keras.layers import Conv1D, MaxPooling1D, Flatten, Dense, Dropout\n",
    "import matplotlib.pyplot as plt"
   ]
  },
  {
   "cell_type": "markdown",
   "id": "1bd9df71",
   "metadata": {},
   "source": [
    "## Load the data"
   ]
  },
  {
   "cell_type": "code",
   "execution_count": 2,
   "id": "3aff41dd",
   "metadata": {},
   "outputs": [],
   "source": [
    "data = pd.read_csv('Epileptic Seizure Recognition.csv')"
   ]
  },
  {
   "cell_type": "markdown",
   "id": "f120b116",
   "metadata": {},
   "source": [
    "## Preprocess the data"
   ]
  },
  {
   "cell_type": "code",
   "execution_count": 3,
   "id": "8635eacb",
   "metadata": {},
   "outputs": [],
   "source": [
    "X = data.iloc[:, 1:-1].values\n",
    "y = data.iloc[:, -1:].values\n",
    "y[y > 1] = 0  # Convert multi-class to binary"
   ]
  },
  {
   "cell_type": "markdown",
   "id": "e36fd7d3",
   "metadata": {},
   "source": [
    "## Split the data into training and testing sets"
   ]
  },
  {
   "cell_type": "code",
   "execution_count": 4,
   "id": "a49f5138",
   "metadata": {},
   "outputs": [],
   "source": [
    "X_train, X_test, y_train, y_test = train_test_split(X, y, test_size=0.25, shuffle=True, random_state=42)"
   ]
  },
  {
   "cell_type": "markdown",
   "id": "4e2d887c",
   "metadata": {},
   "source": [
    "## Standardize the data"
   ]
  },
  {
   "cell_type": "code",
   "execution_count": 5,
   "id": "fc1f66c5",
   "metadata": {},
   "outputs": [],
   "source": [
    "scaler = StandardScaler()\n",
    "X_train_scaled = scaler.fit_transform(X_train)\n",
    "X_test_scaled = scaler.transform(X_test)"
   ]
  },
  {
   "cell_type": "markdown",
   "id": "85a4174f",
   "metadata": {},
   "source": [
    "## Reshape the data for CNN"
   ]
  },
  {
   "cell_type": "code",
   "execution_count": 6,
   "id": "fd637f0b",
   "metadata": {},
   "outputs": [],
   "source": [
    "X_train_reshaped = X_train_scaled.reshape(X_train_scaled.shape[0], X_train_scaled.shape[1], 1)\n",
    "X_test_reshaped = X_test_scaled.reshape(X_test_scaled.shape[0], X_test_scaled.shape[1], 1)"
   ]
  },
  {
   "cell_type": "markdown",
   "id": "beae4506",
   "metadata": {},
   "source": [
    "## Build the CNN model"
   ]
  },
  {
   "cell_type": "code",
   "execution_count": 7,
   "id": "a90dffe2",
   "metadata": {},
   "outputs": [
    {
     "name": "stdout",
     "output_type": "stream",
     "text": [
      "WARNING:tensorflow:From C:\\Users\\hosei\\anaconda3\\envs\\tensorjoon\\lib\\site-packages\\keras\\src\\backend.py:873: The name tf.get_default_graph is deprecated. Please use tf.compat.v1.get_default_graph instead.\n",
      "\n",
      "WARNING:tensorflow:From C:\\Users\\hosei\\anaconda3\\envs\\tensorjoon\\lib\\site-packages\\keras\\src\\backend.py:6642: The name tf.nn.max_pool is deprecated. Please use tf.nn.max_pool2d instead.\n",
      "\n"
     ]
    }
   ],
   "source": [
    "model = Sequential()\n",
    "model.add(Conv1D(filters=64, kernel_size=3, activation='relu', input_shape=(X_train_reshaped.shape[1], 1)))\n",
    "model.add(MaxPooling1D(pool_size=2))\n",
    "model.add(Conv1D(filters=128, kernel_size=3, activation='relu'))\n",
    "model.add(MaxPooling1D(pool_size=2))\n",
    "model.add(Flatten())\n",
    "model.add(Dense(128, activation='relu'))\n",
    "model.add(Dropout(0.5))\n",
    "model.add(Dense(1, activation='sigmoid'))"
   ]
  },
  {
   "cell_type": "markdown",
   "id": "ee5daff2",
   "metadata": {},
   "source": [
    "## Compile the model"
   ]
  },
  {
   "cell_type": "code",
   "execution_count": 8,
   "id": "1047fdc0",
   "metadata": {},
   "outputs": [
    {
     "name": "stdout",
     "output_type": "stream",
     "text": [
      "WARNING:tensorflow:From C:\\Users\\hosei\\anaconda3\\envs\\tensorjoon\\lib\\site-packages\\keras\\src\\optimizers\\__init__.py:309: The name tf.train.Optimizer is deprecated. Please use tf.compat.v1.train.Optimizer instead.\n",
      "\n"
     ]
    }
   ],
   "source": [
    "model.compile(loss='binary_crossentropy', optimizer='adam', metrics=['accuracy'])"
   ]
  },
  {
   "cell_type": "markdown",
   "id": "31bc56aa",
   "metadata": {},
   "source": [
    "## Train the model"
   ]
  },
  {
   "cell_type": "code",
   "execution_count": 9,
   "id": "3d3a9ae4",
   "metadata": {
    "scrolled": true
   },
   "outputs": [
    {
     "name": "stdout",
     "output_type": "stream",
     "text": [
      "Epoch 1/150\n",
      "WARNING:tensorflow:From C:\\Users\\hosei\\anaconda3\\envs\\tensorjoon\\lib\\site-packages\\keras\\src\\utils\\tf_utils.py:492: The name tf.ragged.RaggedTensorValue is deprecated. Please use tf.compat.v1.ragged.RaggedTensorValue instead.\n",
      "\n",
      "WARNING:tensorflow:From C:\\Users\\hosei\\anaconda3\\envs\\tensorjoon\\lib\\site-packages\\keras\\src\\engine\\base_layer_utils.py:384: The name tf.executing_eagerly_outside_functions is deprecated. Please use tf.compat.v1.executing_eagerly_outside_functions instead.\n",
      "\n",
      "54/54 [==============================] - 5s 45ms/step - loss: 0.2875 - accuracy: 0.8826 - val_loss: 0.1172 - val_accuracy: 0.9525\n",
      "Epoch 2/150\n",
      "54/54 [==============================] - 2s 36ms/step - loss: 0.1039 - accuracy: 0.9577 - val_loss: 0.1009 - val_accuracy: 0.9571\n",
      "Epoch 3/150\n",
      "54/54 [==============================] - 2s 36ms/step - loss: 0.0937 - accuracy: 0.9620 - val_loss: 0.0967 - val_accuracy: 0.9583\n",
      "Epoch 4/150\n",
      "54/54 [==============================] - 2s 35ms/step - loss: 0.0832 - accuracy: 0.9646 - val_loss: 0.0919 - val_accuracy: 0.9641\n",
      "Epoch 5/150\n",
      "54/54 [==============================] - 2s 35ms/step - loss: 0.0745 - accuracy: 0.9696 - val_loss: 0.0878 - val_accuracy: 0.9658\n",
      "Epoch 6/150\n",
      "54/54 [==============================] - 2s 35ms/step - loss: 0.0669 - accuracy: 0.9742 - val_loss: 0.0892 - val_accuracy: 0.9704\n",
      "Epoch 7/150\n",
      "54/54 [==============================] - 2s 35ms/step - loss: 0.0673 - accuracy: 0.9736 - val_loss: 0.0824 - val_accuracy: 0.9722\n",
      "Epoch 8/150\n",
      "54/54 [==============================] - 2s 35ms/step - loss: 0.0518 - accuracy: 0.9803 - val_loss: 0.0718 - val_accuracy: 0.9762\n",
      "Epoch 9/150\n",
      "54/54 [==============================] - 2s 35ms/step - loss: 0.0430 - accuracy: 0.9857 - val_loss: 0.0708 - val_accuracy: 0.9786\n",
      "Epoch 10/150\n",
      "54/54 [==============================] - 2s 36ms/step - loss: 0.0416 - accuracy: 0.9845 - val_loss: 0.0714 - val_accuracy: 0.9751\n",
      "Epoch 11/150\n",
      "54/54 [==============================] - 2s 35ms/step - loss: 0.0359 - accuracy: 0.9859 - val_loss: 0.0668 - val_accuracy: 0.9791\n",
      "Epoch 12/150\n",
      "54/54 [==============================] - 2s 35ms/step - loss: 0.0320 - accuracy: 0.9871 - val_loss: 0.0707 - val_accuracy: 0.9780\n",
      "Epoch 13/150\n",
      "54/54 [==============================] - 2s 35ms/step - loss: 0.0314 - accuracy: 0.9888 - val_loss: 0.0793 - val_accuracy: 0.9762\n",
      "Epoch 14/150\n",
      "54/54 [==============================] - 2s 35ms/step - loss: 0.0243 - accuracy: 0.9922 - val_loss: 0.0697 - val_accuracy: 0.9797\n",
      "Epoch 15/150\n",
      "54/54 [==============================] - 2s 35ms/step - loss: 0.0252 - accuracy: 0.9919 - val_loss: 0.0652 - val_accuracy: 0.9809\n",
      "Epoch 16/150\n",
      "54/54 [==============================] - 2s 35ms/step - loss: 0.0226 - accuracy: 0.9923 - val_loss: 0.0682 - val_accuracy: 0.9797\n",
      "Epoch 17/150\n",
      "54/54 [==============================] - 2s 35ms/step - loss: 0.0189 - accuracy: 0.9941 - val_loss: 0.0821 - val_accuracy: 0.9791\n",
      "Epoch 18/150\n",
      "54/54 [==============================] - 2s 34ms/step - loss: 0.0183 - accuracy: 0.9936 - val_loss: 0.0727 - val_accuracy: 0.9797\n",
      "Epoch 19/150\n",
      "54/54 [==============================] - 2s 35ms/step - loss: 0.0140 - accuracy: 0.9946 - val_loss: 0.0701 - val_accuracy: 0.9809\n",
      "Epoch 20/150\n",
      "54/54 [==============================] - 2s 35ms/step - loss: 0.0143 - accuracy: 0.9958 - val_loss: 0.0839 - val_accuracy: 0.9786\n",
      "Epoch 21/150\n",
      "54/54 [==============================] - 2s 35ms/step - loss: 0.0126 - accuracy: 0.9971 - val_loss: 0.0906 - val_accuracy: 0.9791\n",
      "Epoch 22/150\n",
      "54/54 [==============================] - 2s 35ms/step - loss: 0.0136 - accuracy: 0.9948 - val_loss: 0.0839 - val_accuracy: 0.9809\n",
      "Epoch 23/150\n",
      "54/54 [==============================] - 2s 35ms/step - loss: 0.0163 - accuracy: 0.9949 - val_loss: 0.0747 - val_accuracy: 0.9803\n",
      "Epoch 24/150\n",
      "54/54 [==============================] - 2s 35ms/step - loss: 0.0118 - accuracy: 0.9974 - val_loss: 0.0863 - val_accuracy: 0.9774\n",
      "Epoch 25/150\n",
      "54/54 [==============================] - 2s 34ms/step - loss: 0.0079 - accuracy: 0.9978 - val_loss: 0.0818 - val_accuracy: 0.9803\n",
      "Epoch 26/150\n",
      "54/54 [==============================] - 2s 34ms/step - loss: 0.0079 - accuracy: 0.9975 - val_loss: 0.0847 - val_accuracy: 0.9803\n",
      "Epoch 27/150\n",
      "54/54 [==============================] - 2s 32ms/step - loss: 0.0085 - accuracy: 0.9972 - val_loss: 0.0813 - val_accuracy: 0.9814\n",
      "Epoch 28/150\n",
      "54/54 [==============================] - 2s 34ms/step - loss: 0.0080 - accuracy: 0.9975 - val_loss: 0.1037 - val_accuracy: 0.9762\n",
      "Epoch 29/150\n",
      "54/54 [==============================] - 2s 37ms/step - loss: 0.0090 - accuracy: 0.9971 - val_loss: 0.1376 - val_accuracy: 0.9728\n",
      "Epoch 30/150\n",
      "54/54 [==============================] - 2s 34ms/step - loss: 0.0073 - accuracy: 0.9980 - val_loss: 0.0880 - val_accuracy: 0.9803\n",
      "Epoch 31/150\n",
      "54/54 [==============================] - 2s 39ms/step - loss: 0.0089 - accuracy: 0.9978 - val_loss: 0.0848 - val_accuracy: 0.9797\n",
      "Epoch 32/150\n",
      "54/54 [==============================] - 2s 34ms/step - loss: 0.0063 - accuracy: 0.9978 - val_loss: 0.0986 - val_accuracy: 0.9797\n",
      "Epoch 33/150\n",
      "54/54 [==============================] - 2s 35ms/step - loss: 0.0053 - accuracy: 0.9984 - val_loss: 0.0847 - val_accuracy: 0.9820\n",
      "Epoch 34/150\n",
      "54/54 [==============================] - 2s 34ms/step - loss: 0.0041 - accuracy: 0.9990 - val_loss: 0.1243 - val_accuracy: 0.9757\n",
      "Epoch 35/150\n",
      "54/54 [==============================] - 2s 35ms/step - loss: 0.0065 - accuracy: 0.9975 - val_loss: 0.1293 - val_accuracy: 0.9768\n",
      "Epoch 36/150\n",
      "54/54 [==============================] - 2s 35ms/step - loss: 0.0074 - accuracy: 0.9977 - val_loss: 0.0870 - val_accuracy: 0.9832\n",
      "Epoch 37/150\n",
      "54/54 [==============================] - 2s 36ms/step - loss: 0.0068 - accuracy: 0.9986 - val_loss: 0.1123 - val_accuracy: 0.9791\n",
      "Epoch 38/150\n",
      "54/54 [==============================] - 2s 35ms/step - loss: 0.0069 - accuracy: 0.9981 - val_loss: 0.0918 - val_accuracy: 0.9820\n",
      "Epoch 39/150\n",
      "54/54 [==============================] - 2s 36ms/step - loss: 0.0052 - accuracy: 0.9986 - val_loss: 0.1068 - val_accuracy: 0.9786\n",
      "Epoch 40/150\n",
      "54/54 [==============================] - 2s 35ms/step - loss: 0.0055 - accuracy: 0.9981 - val_loss: 0.0923 - val_accuracy: 0.9803\n",
      "Epoch 41/150\n",
      "54/54 [==============================] - 2s 35ms/step - loss: 0.0028 - accuracy: 0.9993 - val_loss: 0.0971 - val_accuracy: 0.9832\n",
      "Epoch 42/150\n",
      "54/54 [==============================] - 2s 35ms/step - loss: 0.0024 - accuracy: 0.9994 - val_loss: 0.1292 - val_accuracy: 0.9774\n",
      "Epoch 43/150\n",
      "54/54 [==============================] - 2s 35ms/step - loss: 0.0086 - accuracy: 0.9978 - val_loss: 0.0903 - val_accuracy: 0.9814\n",
      "Epoch 44/150\n",
      "54/54 [==============================] - 2s 36ms/step - loss: 0.0070 - accuracy: 0.9984 - val_loss: 0.1702 - val_accuracy: 0.9693\n",
      "Epoch 45/150\n",
      "54/54 [==============================] - 2s 37ms/step - loss: 0.0054 - accuracy: 0.9987 - val_loss: 0.1235 - val_accuracy: 0.9814\n",
      "Epoch 46/150\n",
      "54/54 [==============================] - 2s 36ms/step - loss: 0.0035 - accuracy: 0.9991 - val_loss: 0.0973 - val_accuracy: 0.9843\n",
      "Epoch 47/150\n",
      "54/54 [==============================] - 2s 38ms/step - loss: 0.0066 - accuracy: 0.9983 - val_loss: 0.0916 - val_accuracy: 0.9786\n",
      "Epoch 48/150\n",
      "54/54 [==============================] - 2s 38ms/step - loss: 0.0076 - accuracy: 0.9975 - val_loss: 0.0963 - val_accuracy: 0.9820\n",
      "Epoch 49/150\n",
      "54/54 [==============================] - 2s 36ms/step - loss: 0.0043 - accuracy: 0.9984 - val_loss: 0.0983 - val_accuracy: 0.9832\n",
      "Epoch 50/150\n",
      "54/54 [==============================] - 2s 38ms/step - loss: 0.0039 - accuracy: 0.9991 - val_loss: 0.1159 - val_accuracy: 0.9820\n",
      "Epoch 51/150\n",
      "54/54 [==============================] - 2s 35ms/step - loss: 0.0027 - accuracy: 0.9988 - val_loss: 0.1196 - val_accuracy: 0.9803\n",
      "Epoch 52/150\n",
      "54/54 [==============================] - 2s 34ms/step - loss: 0.0023 - accuracy: 0.9993 - val_loss: 0.1191 - val_accuracy: 0.9838\n",
      "Epoch 53/150\n",
      "54/54 [==============================] - 2s 36ms/step - loss: 0.0021 - accuracy: 0.9993 - val_loss: 0.1245 - val_accuracy: 0.9843\n",
      "Epoch 54/150\n",
      "54/54 [==============================] - 2s 35ms/step - loss: 0.0034 - accuracy: 0.9993 - val_loss: 0.0995 - val_accuracy: 0.9826\n"
     ]
    },
    {
     "name": "stdout",
     "output_type": "stream",
     "text": [
      "Epoch 55/150\n",
      "54/54 [==============================] - 2s 35ms/step - loss: 0.0039 - accuracy: 0.9984 - val_loss: 0.1082 - val_accuracy: 0.9820\n",
      "Epoch 56/150\n",
      "54/54 [==============================] - 2s 35ms/step - loss: 0.0057 - accuracy: 0.9983 - val_loss: 0.1148 - val_accuracy: 0.9809\n",
      "Epoch 57/150\n",
      "54/54 [==============================] - 2s 35ms/step - loss: 0.0054 - accuracy: 0.9978 - val_loss: 0.1114 - val_accuracy: 0.9826\n",
      "Epoch 58/150\n",
      "54/54 [==============================] - 2s 35ms/step - loss: 0.0040 - accuracy: 0.9990 - val_loss: 0.1086 - val_accuracy: 0.9814\n",
      "Epoch 59/150\n",
      "54/54 [==============================] - 2s 37ms/step - loss: 0.0025 - accuracy: 0.9991 - val_loss: 0.1278 - val_accuracy: 0.9797\n",
      "Epoch 60/150\n",
      "54/54 [==============================] - 2s 35ms/step - loss: 0.0015 - accuracy: 0.9996 - val_loss: 0.1200 - val_accuracy: 0.9832\n",
      "Epoch 61/150\n",
      "54/54 [==============================] - 2s 36ms/step - loss: 0.0017 - accuracy: 0.9994 - val_loss: 0.1045 - val_accuracy: 0.9832\n",
      "Epoch 62/150\n",
      "54/54 [==============================] - 2s 36ms/step - loss: 0.0018 - accuracy: 0.9996 - val_loss: 0.1579 - val_accuracy: 0.9791\n",
      "Epoch 63/150\n",
      "54/54 [==============================] - 2s 35ms/step - loss: 0.0029 - accuracy: 0.9994 - val_loss: 0.1190 - val_accuracy: 0.9838\n",
      "Epoch 64/150\n",
      "54/54 [==============================] - 2s 36ms/step - loss: 0.0028 - accuracy: 0.9993 - val_loss: 0.1160 - val_accuracy: 0.9814\n",
      "Epoch 65/150\n",
      "54/54 [==============================] - 2s 35ms/step - loss: 0.0018 - accuracy: 0.9996 - val_loss: 0.1504 - val_accuracy: 0.9797\n",
      "Epoch 66/150\n",
      "54/54 [==============================] - 2s 36ms/step - loss: 0.0016 - accuracy: 0.9996 - val_loss: 0.1356 - val_accuracy: 0.9814\n",
      "Epoch 67/150\n",
      "54/54 [==============================] - 2s 36ms/step - loss: 0.0013 - accuracy: 0.9996 - val_loss: 0.1599 - val_accuracy: 0.9786\n",
      "Epoch 68/150\n",
      "54/54 [==============================] - 2s 36ms/step - loss: 0.0024 - accuracy: 0.9993 - val_loss: 0.1052 - val_accuracy: 0.9843\n",
      "Epoch 69/150\n",
      "54/54 [==============================] - 2s 35ms/step - loss: 0.0018 - accuracy: 0.9996 - val_loss: 0.1400 - val_accuracy: 0.9832\n",
      "Epoch 70/150\n",
      "54/54 [==============================] - 2s 37ms/step - loss: 0.0037 - accuracy: 0.9990 - val_loss: 0.1880 - val_accuracy: 0.9768\n",
      "Epoch 71/150\n",
      "54/54 [==============================] - 2s 35ms/step - loss: 0.0066 - accuracy: 0.9974 - val_loss: 0.1037 - val_accuracy: 0.9797\n",
      "Epoch 72/150\n",
      "54/54 [==============================] - 2s 36ms/step - loss: 0.0024 - accuracy: 0.9994 - val_loss: 0.1156 - val_accuracy: 0.9832\n",
      "Epoch 73/150\n",
      "54/54 [==============================] - 2s 36ms/step - loss: 0.0037 - accuracy: 0.9986 - val_loss: 0.1060 - val_accuracy: 0.9820\n",
      "Epoch 74/150\n",
      "54/54 [==============================] - 2s 34ms/step - loss: 0.0030 - accuracy: 0.9993 - val_loss: 0.1294 - val_accuracy: 0.9820\n",
      "Epoch 75/150\n",
      "54/54 [==============================] - 2s 34ms/step - loss: 0.0022 - accuracy: 0.9991 - val_loss: 0.1077 - val_accuracy: 0.9826\n",
      "Epoch 76/150\n",
      "54/54 [==============================] - 2s 36ms/step - loss: 0.0020 - accuracy: 0.9996 - val_loss: 0.1437 - val_accuracy: 0.9826\n",
      "Epoch 77/150\n",
      "54/54 [==============================] - 2s 34ms/step - loss: 0.0041 - accuracy: 0.9984 - val_loss: 0.1692 - val_accuracy: 0.9757\n",
      "Epoch 78/150\n",
      "54/54 [==============================] - 2s 35ms/step - loss: 0.0051 - accuracy: 0.9975 - val_loss: 0.1392 - val_accuracy: 0.9803\n",
      "Epoch 79/150\n",
      "54/54 [==============================] - 2s 34ms/step - loss: 0.0037 - accuracy: 0.9988 - val_loss: 0.1128 - val_accuracy: 0.9803\n",
      "Epoch 80/150\n",
      "54/54 [==============================] - 2s 37ms/step - loss: 0.0074 - accuracy: 0.9981 - val_loss: 0.1003 - val_accuracy: 0.9826\n",
      "Epoch 81/150\n",
      "54/54 [==============================] - 2s 37ms/step - loss: 0.0067 - accuracy: 0.9984 - val_loss: 0.1223 - val_accuracy: 0.9797\n",
      "Epoch 82/150\n",
      "54/54 [==============================] - 2s 35ms/step - loss: 0.0018 - accuracy: 0.9994 - val_loss: 0.1286 - val_accuracy: 0.9803\n",
      "Epoch 83/150\n",
      "54/54 [==============================] - 2s 35ms/step - loss: 0.0020 - accuracy: 0.9993 - val_loss: 0.1160 - val_accuracy: 0.9826\n",
      "Epoch 84/150\n",
      "54/54 [==============================] - 2s 36ms/step - loss: 0.0029 - accuracy: 0.9991 - val_loss: 0.0960 - val_accuracy: 0.9838\n",
      "Epoch 85/150\n",
      "54/54 [==============================] - 2s 36ms/step - loss: 0.0015 - accuracy: 0.9997 - val_loss: 0.1076 - val_accuracy: 0.9861\n",
      "Epoch 86/150\n",
      "54/54 [==============================] - 2s 35ms/step - loss: 0.0017 - accuracy: 0.9996 - val_loss: 0.1312 - val_accuracy: 0.9809\n",
      "Epoch 87/150\n",
      "54/54 [==============================] - 2s 37ms/step - loss: 0.0019 - accuracy: 0.9993 - val_loss: 0.1055 - val_accuracy: 0.9820\n",
      "Epoch 88/150\n",
      "54/54 [==============================] - 2s 36ms/step - loss: 0.0016 - accuracy: 0.9996 - val_loss: 0.1127 - val_accuracy: 0.9855\n",
      "Epoch 89/150\n",
      "54/54 [==============================] - 2s 37ms/step - loss: 6.5905e-04 - accuracy: 1.0000 - val_loss: 0.1260 - val_accuracy: 0.9838\n",
      "Epoch 90/150\n",
      "54/54 [==============================] - 2s 36ms/step - loss: 5.9108e-04 - accuracy: 1.0000 - val_loss: 0.1299 - val_accuracy: 0.9838\n",
      "Epoch 91/150\n",
      "54/54 [==============================] - 2s 38ms/step - loss: 9.3242e-04 - accuracy: 0.9999 - val_loss: 0.1447 - val_accuracy: 0.9826\n",
      "Epoch 92/150\n",
      "54/54 [==============================] - 2s 35ms/step - loss: 0.0017 - accuracy: 0.9994 - val_loss: 0.1453 - val_accuracy: 0.9832\n",
      "Epoch 93/150\n",
      "54/54 [==============================] - 2s 38ms/step - loss: 0.0014 - accuracy: 0.9993 - val_loss: 0.1327 - val_accuracy: 0.9838\n",
      "Epoch 94/150\n",
      "54/54 [==============================] - 2s 34ms/step - loss: 5.8036e-04 - accuracy: 0.9999 - val_loss: 0.1321 - val_accuracy: 0.9855\n",
      "Epoch 95/150\n",
      "54/54 [==============================] - 2s 34ms/step - loss: 7.8545e-04 - accuracy: 0.9999 - val_loss: 0.1321 - val_accuracy: 0.9849\n",
      "Epoch 96/150\n",
      "54/54 [==============================] - 2s 36ms/step - loss: 0.0039 - accuracy: 0.9988 - val_loss: 0.1227 - val_accuracy: 0.9832\n",
      "Epoch 97/150\n",
      "54/54 [==============================] - 2s 34ms/step - loss: 0.0022 - accuracy: 0.9991 - val_loss: 0.1148 - val_accuracy: 0.9826\n",
      "Epoch 98/150\n",
      "54/54 [==============================] - 2s 34ms/step - loss: 7.4496e-04 - accuracy: 0.9999 - val_loss: 0.1265 - val_accuracy: 0.9814\n",
      "Epoch 99/150\n",
      "54/54 [==============================] - 2s 35ms/step - loss: 0.0018 - accuracy: 0.9991 - val_loss: 0.2781 - val_accuracy: 0.9716\n",
      "Epoch 100/150\n",
      "54/54 [==============================] - 2s 36ms/step - loss: 0.0019 - accuracy: 0.9993 - val_loss: 0.1144 - val_accuracy: 0.9826\n",
      "Epoch 101/150\n",
      "54/54 [==============================] - 2s 34ms/step - loss: 0.0065 - accuracy: 0.9984 - val_loss: 0.1430 - val_accuracy: 0.9786\n",
      "Epoch 102/150\n",
      "54/54 [==============================] - 2s 38ms/step - loss: 0.0063 - accuracy: 0.9984 - val_loss: 0.1099 - val_accuracy: 0.9820\n",
      "Epoch 103/150\n",
      "54/54 [==============================] - 2s 34ms/step - loss: 0.0037 - accuracy: 0.9988 - val_loss: 0.1367 - val_accuracy: 0.9803\n",
      "Epoch 104/150\n",
      "54/54 [==============================] - 2s 33ms/step - loss: 0.0018 - accuracy: 0.9996 - val_loss: 0.1619 - val_accuracy: 0.9809\n",
      "Epoch 105/150\n",
      "54/54 [==============================] - 2s 33ms/step - loss: 0.0012 - accuracy: 0.9996 - val_loss: 0.1213 - val_accuracy: 0.9843\n",
      "Epoch 106/150\n",
      "54/54 [==============================] - 2s 34ms/step - loss: 0.0012 - accuracy: 0.9996 - val_loss: 0.1261 - val_accuracy: 0.9849\n",
      "Epoch 107/150\n",
      "54/54 [==============================] - 2s 35ms/step - loss: 0.0012 - accuracy: 0.9996 - val_loss: 0.1160 - val_accuracy: 0.9849\n",
      "Epoch 108/150\n",
      "54/54 [==============================] - 2s 34ms/step - loss: 0.0016 - accuracy: 0.9993 - val_loss: 0.1386 - val_accuracy: 0.9838\n",
      "Epoch 109/150\n",
      "54/54 [==============================] - 2s 34ms/step - loss: 7.6660e-04 - accuracy: 0.9999 - val_loss: 0.1506 - val_accuracy: 0.9843\n",
      "Epoch 110/150\n",
      "54/54 [==============================] - 2s 34ms/step - loss: 0.0019 - accuracy: 0.9994 - val_loss: 0.1731 - val_accuracy: 0.9809\n",
      "Epoch 111/150\n",
      "54/54 [==============================] - 2s 34ms/step - loss: 0.0021 - accuracy: 0.9996 - val_loss: 0.1668 - val_accuracy: 0.9820\n",
      "Epoch 112/150\n"
     ]
    },
    {
     "name": "stdout",
     "output_type": "stream",
     "text": [
      "54/54 [==============================] - 2s 35ms/step - loss: 0.0020 - accuracy: 0.9996 - val_loss: 0.1581 - val_accuracy: 0.9803\n",
      "Epoch 113/150\n",
      "54/54 [==============================] - 2s 35ms/step - loss: 0.0010 - accuracy: 0.9997 - val_loss: 0.1461 - val_accuracy: 0.9826\n",
      "Epoch 114/150\n",
      "54/54 [==============================] - 2s 35ms/step - loss: 0.0018 - accuracy: 0.9996 - val_loss: 0.1783 - val_accuracy: 0.9809\n",
      "Epoch 115/150\n",
      "54/54 [==============================] - 2s 36ms/step - loss: 0.0011 - accuracy: 0.9996 - val_loss: 0.1597 - val_accuracy: 0.9814\n",
      "Epoch 116/150\n",
      "54/54 [==============================] - 2s 36ms/step - loss: 0.0026 - accuracy: 0.9993 - val_loss: 0.2114 - val_accuracy: 0.9803\n",
      "Epoch 117/150\n",
      "54/54 [==============================] - 2s 34ms/step - loss: 0.0033 - accuracy: 0.9987 - val_loss: 0.1817 - val_accuracy: 0.9797\n",
      "Epoch 118/150\n",
      "54/54 [==============================] - 2s 35ms/step - loss: 0.0019 - accuracy: 0.9991 - val_loss: 0.1433 - val_accuracy: 0.9814\n",
      "Epoch 119/150\n",
      "54/54 [==============================] - 2s 34ms/step - loss: 0.0024 - accuracy: 0.9991 - val_loss: 0.1947 - val_accuracy: 0.9797\n",
      "Epoch 120/150\n",
      "54/54 [==============================] - 2s 34ms/step - loss: 0.0019 - accuracy: 0.9993 - val_loss: 0.1732 - val_accuracy: 0.9803\n",
      "Epoch 121/150\n",
      "54/54 [==============================] - 2s 35ms/step - loss: 0.0031 - accuracy: 0.9990 - val_loss: 0.1671 - val_accuracy: 0.9814\n",
      "Epoch 122/150\n",
      "54/54 [==============================] - 2s 35ms/step - loss: 0.0011 - accuracy: 0.9996 - val_loss: 0.2025 - val_accuracy: 0.9803\n",
      "Epoch 123/150\n",
      "54/54 [==============================] - 2s 35ms/step - loss: 0.0024 - accuracy: 0.9991 - val_loss: 0.1564 - val_accuracy: 0.9820\n",
      "Epoch 124/150\n",
      "54/54 [==============================] - 2s 35ms/step - loss: 6.6642e-04 - accuracy: 0.9997 - val_loss: 0.1579 - val_accuracy: 0.9826\n",
      "Epoch 125/150\n",
      "54/54 [==============================] - 2s 35ms/step - loss: 0.0012 - accuracy: 0.9997 - val_loss: 0.1466 - val_accuracy: 0.9814\n",
      "Epoch 126/150\n",
      "54/54 [==============================] - 2s 36ms/step - loss: 6.3373e-04 - accuracy: 0.9999 - val_loss: 0.1436 - val_accuracy: 0.9814\n",
      "Epoch 127/150\n",
      "54/54 [==============================] - 2s 35ms/step - loss: 4.6008e-04 - accuracy: 1.0000 - val_loss: 0.1574 - val_accuracy: 0.9820\n",
      "Epoch 128/150\n",
      "54/54 [==============================] - 2s 35ms/step - loss: 7.0834e-04 - accuracy: 0.9999 - val_loss: 0.1562 - val_accuracy: 0.9826\n",
      "Epoch 129/150\n",
      "54/54 [==============================] - 2s 35ms/step - loss: 5.6913e-04 - accuracy: 0.9999 - val_loss: 0.1476 - val_accuracy: 0.9820\n",
      "Epoch 130/150\n",
      "54/54 [==============================] - 2s 35ms/step - loss: 0.0020 - accuracy: 0.9994 - val_loss: 0.1594 - val_accuracy: 0.9803\n",
      "Epoch 131/150\n",
      "54/54 [==============================] - 2s 35ms/step - loss: 8.5064e-04 - accuracy: 0.9997 - val_loss: 0.1794 - val_accuracy: 0.9786\n",
      "Epoch 132/150\n",
      "54/54 [==============================] - 2s 36ms/step - loss: 0.0028 - accuracy: 0.9988 - val_loss: 0.2322 - val_accuracy: 0.9664\n",
      "Epoch 133/150\n",
      "54/54 [==============================] - 2s 35ms/step - loss: 0.0153 - accuracy: 0.9965 - val_loss: 0.1723 - val_accuracy: 0.9786\n",
      "Epoch 134/150\n",
      "54/54 [==============================] - 2s 35ms/step - loss: 0.0035 - accuracy: 0.9988 - val_loss: 0.1318 - val_accuracy: 0.9826\n",
      "Epoch 135/150\n",
      "54/54 [==============================] - 2s 35ms/step - loss: 0.0029 - accuracy: 0.9988 - val_loss: 0.1458 - val_accuracy: 0.9838\n",
      "Epoch 136/150\n",
      "54/54 [==============================] - 2s 35ms/step - loss: 0.0036 - accuracy: 0.9986 - val_loss: 0.2484 - val_accuracy: 0.9722\n",
      "Epoch 137/150\n",
      "54/54 [==============================] - 2s 35ms/step - loss: 0.0047 - accuracy: 0.9986 - val_loss: 0.1575 - val_accuracy: 0.9826\n",
      "Epoch 138/150\n",
      "54/54 [==============================] - 2s 35ms/step - loss: 0.0040 - accuracy: 0.9990 - val_loss: 0.1647 - val_accuracy: 0.9809\n",
      "Epoch 139/150\n",
      "54/54 [==============================] - 2s 35ms/step - loss: 0.0024 - accuracy: 0.9994 - val_loss: 0.1396 - val_accuracy: 0.9838\n",
      "Epoch 140/150\n",
      "54/54 [==============================] - 2s 35ms/step - loss: 0.0011 - accuracy: 0.9997 - val_loss: 0.1491 - val_accuracy: 0.9832\n",
      "Epoch 141/150\n",
      "54/54 [==============================] - 2s 35ms/step - loss: 0.0020 - accuracy: 0.9993 - val_loss: 0.1421 - val_accuracy: 0.9826\n",
      "Epoch 142/150\n",
      "54/54 [==============================] - 2s 35ms/step - loss: 8.7349e-04 - accuracy: 0.9997 - val_loss: 0.1634 - val_accuracy: 0.9838\n",
      "Epoch 143/150\n",
      "54/54 [==============================] - 2s 35ms/step - loss: 6.8423e-04 - accuracy: 0.9999 - val_loss: 0.1546 - val_accuracy: 0.9843\n",
      "Epoch 144/150\n",
      "54/54 [==============================] - 2s 36ms/step - loss: 0.0011 - accuracy: 0.9997 - val_loss: 0.1658 - val_accuracy: 0.9826\n",
      "Epoch 145/150\n",
      "54/54 [==============================] - 2s 35ms/step - loss: 4.0836e-04 - accuracy: 1.0000 - val_loss: 0.1649 - val_accuracy: 0.9843\n",
      "Epoch 146/150\n",
      "54/54 [==============================] - 2s 35ms/step - loss: 6.8314e-04 - accuracy: 0.9997 - val_loss: 0.1678 - val_accuracy: 0.9832\n",
      "Epoch 147/150\n",
      "54/54 [==============================] - 2s 35ms/step - loss: 6.1408e-04 - accuracy: 0.9997 - val_loss: 0.1531 - val_accuracy: 0.9838\n",
      "Epoch 148/150\n",
      "54/54 [==============================] - 2s 35ms/step - loss: 0.0011 - accuracy: 0.9994 - val_loss: 0.1487 - val_accuracy: 0.9838\n",
      "Epoch 149/150\n",
      "54/54 [==============================] - 2s 35ms/step - loss: 0.0013 - accuracy: 0.9994 - val_loss: 0.1774 - val_accuracy: 0.9826\n",
      "Epoch 150/150\n",
      "54/54 [==============================] - 2s 35ms/step - loss: 3.3979e-04 - accuracy: 1.0000 - val_loss: 0.1686 - val_accuracy: 0.9861\n"
     ]
    }
   ],
   "source": [
    "history = model.fit(X_train_reshaped, y_train, epochs=150, batch_size=128, validation_split=0.2)"
   ]
  },
  {
   "cell_type": "markdown",
   "id": "10913829",
   "metadata": {},
   "source": [
    "## Evaluate the model"
   ]
  },
  {
   "cell_type": "code",
   "execution_count": 10,
   "id": "aa673c21",
   "metadata": {},
   "outputs": [
    {
     "name": "stdout",
     "output_type": "stream",
     "text": [
      "90/90 [==============================] - 1s 7ms/step\n"
     ]
    }
   ],
   "source": [
    "y_pred = model.predict(X_test_reshaped)\n",
    "y_pred_binary = (y_pred > 0.5).astype(int)"
   ]
  },
  {
   "cell_type": "markdown",
   "id": "72954820",
   "metadata": {},
   "source": [
    "## Calculate and print the confusion matrix"
   ]
  },
  {
   "cell_type": "code",
   "execution_count": 11,
   "id": "dae59298",
   "metadata": {},
   "outputs": [
    {
     "name": "stdout",
     "output_type": "stream",
     "text": [
      "Confusion Matrix:\n",
      "[[2270   15]\n",
      " [  33  557]]\n"
     ]
    }
   ],
   "source": [
    "conf_matrix = confusion_matrix(y_test, y_pred_binary)\n",
    "print(\"Confusion Matrix:\")\n",
    "print(conf_matrix)"
   ]
  },
  {
   "cell_type": "markdown",
   "id": "b2aa0be0",
   "metadata": {},
   "source": [
    "## Calculate and print classification report"
   ]
  },
  {
   "cell_type": "code",
   "execution_count": 12,
   "id": "3a406fb3",
   "metadata": {},
   "outputs": [
    {
     "name": "stdout",
     "output_type": "stream",
     "text": [
      "Classification Report:\n",
      "              precision    recall  f1-score   support\n",
      "\n",
      "           0       0.99      0.99      0.99      2285\n",
      "           1       0.97      0.94      0.96       590\n",
      "\n",
      "    accuracy                           0.98      2875\n",
      "   macro avg       0.98      0.97      0.97      2875\n",
      "weighted avg       0.98      0.98      0.98      2875\n",
      "\n"
     ]
    }
   ],
   "source": [
    "class_report = classification_report(y_test, y_pred_binary)\n",
    "print(\"Classification Report:\")\n",
    "print(class_report)"
   ]
  },
  {
   "cell_type": "markdown",
   "id": "a08afd60",
   "metadata": {},
   "source": [
    "## Calculate and print accuracy"
   ]
  },
  {
   "cell_type": "code",
   "execution_count": 13,
   "id": "e8a75092",
   "metadata": {},
   "outputs": [
    {
     "name": "stdout",
     "output_type": "stream",
     "text": [
      "Accuracy: 0.983304347826087\n"
     ]
    }
   ],
   "source": [
    "accuracy = accuracy_score(y_test, y_pred_binary)\n",
    "print(\"Accuracy:\", accuracy)"
   ]
  },
  {
   "cell_type": "markdown",
   "id": "bc567a1a",
   "metadata": {},
   "source": [
    "## Plot training history"
   ]
  },
  {
   "cell_type": "code",
   "execution_count": 14,
   "id": "888f391d",
   "metadata": {
    "scrolled": false
   },
   "outputs": [
    {
     "data": {
      "image/png": "[encoded data removed]",
      "text/plain": [
       "<Figure size 640x480 with 1 Axes>"
      ]
     },
     "metadata": {},
     "output_type": "display_data"
    }
   ],
   "source": [
    "plt.plot(history.history['accuracy'], label='Train Accuracy')\n",
    "plt.plot(history.history['val_accuracy'], label='Validation Accuracy')\n",
    "plt.title('Training and Validation Accuracy')\n",
    "plt.xlabel('Epochs')\n",
    "plt.ylabel('Accuracy')\n",
    "plt.legend()\n",
    "plt.show()"
   ]
  }
 ],
 "metadata": {
  "kernelspec": {
   "display_name": "tensorjoon",
   "language": "python",
   "name": "tensorjoon"
  },
  "language_info": {
   "codemirror_mode": {
    "name": "ipython",
    "version": 3
   },
   "file_extension": ".py",
   "mimetype": "text/x-python",
   "name": "python",
   "nbconvert_exporter": "python",
   "pygments_lexer": "ipython3",
   "version": "3.9.18"
  }
 },
 "nbformat": 4,
 "nbformat_minor": 5
}
